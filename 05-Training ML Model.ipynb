{
 "cells": [
  {
   "cell_type": "code",
   "execution_count": 1,
   "metadata": {},
   "outputs": [],
   "source": [
    "import warnings\n",
    "warnings.filterwarnings('ignore')\n",
    "import numpy as np\n",
    "import pandas as pd\n",
    "import matplotlib.pyplot as plt\n",
    "from sklearn.decomposition import PCA\n",
    "%matplotlib inline"
   ]
  },
  {
   "cell_type": "code",
   "execution_count": 2,
   "metadata": {},
   "outputs": [
    {
     "data": {
      "text/plain": [
       "['arr_0', 'arr_1', 'arr_2']"
      ]
     },
     "execution_count": 2,
     "metadata": {},
     "output_type": "execute_result"
    }
   ],
   "source": [
    "data = np.load('./data/data_pca_50_y_mean.pickle.npz')\n",
    "data.files"
   ]
  },
  {
   "cell_type": "code",
   "execution_count": 3,
   "metadata": {},
   "outputs": [],
   "source": [
    "X = data['arr_0']\n",
    "y = data['arr_1']\n",
    "mean = data['arr_2']"
   ]
  },
  {
   "cell_type": "code",
   "execution_count": 4,
   "metadata": {},
   "outputs": [
    {
     "data": {
      "text/plain": [
       "((4368, 50), (1093, 50), (4368,), (1093,))"
      ]
     },
     "execution_count": 4,
     "metadata": {},
     "output_type": "execute_result"
    }
   ],
   "source": [
    "from sklearn.model_selection import train_test_split\n",
    "x_train,x_test,y_train,y_test = train_test_split(X,y,test_size=0.2,stratify=y)\n",
    "x_train.shape,x_test.shape,y_train.shape,y_test.shape"
   ]
  },
  {
   "cell_type": "markdown",
   "metadata": {},
   "source": [
    "# Training a Machine Learning Model"
   ]
  },
  {
   "cell_type": "code",
   "execution_count": 5,
   "metadata": {},
   "outputs": [],
   "source": [
    "from sklearn.svm import SVC"
   ]
  },
  {
   "cell_type": "code",
   "execution_count": 6,
   "metadata": {},
   "outputs": [],
   "source": [
    "model = SVC(C=1.0,kernel='rbf',gamma=0.01,probability=True,)"
   ]
  },
  {
   "cell_type": "code",
   "execution_count": 7,
   "metadata": {},
   "outputs": [
    {
     "name": "stdout",
     "output_type": "stream",
     "text": [
      "model trained sucessfully\n"
     ]
    }
   ],
   "source": [
    "model.fit(x_train,y_train)\n",
    "print('model trained sucessfully')"
   ]
  },
  {
   "cell_type": "code",
   "execution_count": 8,
   "metadata": {},
   "outputs": [
    {
     "data": {
      "text/plain": [
       "0.8573717948717948"
      ]
     },
     "execution_count": 8,
     "metadata": {},
     "output_type": "execute_result"
    }
   ],
   "source": [
    "# score\n",
    "model.score(x_train,y_train)"
   ]
  },
  {
   "cell_type": "code",
   "execution_count": 9,
   "metadata": {},
   "outputs": [
    {
     "data": {
      "text/plain": [
       "0.8106129917657823"
      ]
     },
     "execution_count": 9,
     "metadata": {},
     "output_type": "execute_result"
    }
   ],
   "source": [
    "# score\n",
    "model.score(x_test,y_test)"
   ]
  },
  {
   "cell_type": "markdown",
   "metadata": {},
   "source": [
    "# Model Evaluation\n",
    "- Confusion Matrix\n",
    "- Classification Report \n",
    "- Kappa Score\n",
    "- ROC and AUC (probability)"
   ]
  },
  {
   "cell_type": "code",
   "execution_count": 10,
   "metadata": {},
   "outputs": [],
   "source": [
    "from sklearn import metrics"
   ]
  },
  {
   "cell_type": "code",
   "execution_count": 11,
   "metadata": {},
   "outputs": [],
   "source": [
    "y_pred = model.predict(x_test)\n",
    "y_prob = model.predict_proba(x_test) # proability"
   ]
  },
  {
   "cell_type": "code",
   "execution_count": 12,
   "metadata": {},
   "outputs": [
    {
     "data": {
      "image/png": "[encoded data removed]",
      "text/plain": [
       "<Figure size 432x288 with 1 Axes>"
      ]
     },
     "metadata": {
      "needs_background": "light"
     },
     "output_type": "display_data"
    }
   ],
   "source": [
    "cm = metrics.confusion_matrix(y_test,y_pred)\n",
    "cm = np.concatenate((cm,cm.sum(axis=0).reshape(1,-1)),axis=0)\n",
    "cm = np.concatenate((cm,cm.sum(axis=1).reshape(-1,1)),axis=1)\n",
    "plt.imshow(cm)\n",
    "for i in range(3):\n",
    "    for j in range(3):\n",
    "        plt.text(j,i,'%d'%cm[i,j])\n",
    "        \n",
    "plt.xticks([0,1])\n",
    "plt.yticks([0,1])\n",
    "plt.xlabel('Predicted Values')\n",
    "plt.ylabel('True Values')\n",
    "plt.show()"
   ]
  },
  {
   "cell_type": "code",
   "execution_count": 13,
   "metadata": {},
   "outputs": [
    {
     "data": {
      "text/html": [
       "<div>\n",
       "<style scoped>\n",
       "    .dataframe tbody tr th:only-of-type {\n",
       "        vertical-align: middle;\n",
       "    }\n",
       "\n",
       "    .dataframe tbody tr th {\n",
       "        vertical-align: top;\n",
       "    }\n",
       "\n",
       "    .dataframe thead th {\n",
       "        text-align: right;\n",
       "    }\n",
       "</style>\n",
       "<table border=\"1\" class=\"dataframe\">\n",
       "  <thead>\n",
       "    <tr style=\"text-align: right;\">\n",
       "      <th></th>\n",
       "      <th>precision</th>\n",
       "      <th>recall</th>\n",
       "      <th>f1-score</th>\n",
       "      <th>support</th>\n",
       "    </tr>\n",
       "  </thead>\n",
       "  <tbody>\n",
       "    <tr>\n",
       "      <th>male</th>\n",
       "      <td>0.788177</td>\n",
       "      <td>0.725624</td>\n",
       "      <td>0.755608</td>\n",
       "      <td>441.000000</td>\n",
       "    </tr>\n",
       "    <tr>\n",
       "      <th>female</th>\n",
       "      <td>0.823872</td>\n",
       "      <td>0.868098</td>\n",
       "      <td>0.845407</td>\n",
       "      <td>652.000000</td>\n",
       "    </tr>\n",
       "    <tr>\n",
       "      <th>accuracy</th>\n",
       "      <td>0.810613</td>\n",
       "      <td>0.810613</td>\n",
       "      <td>0.810613</td>\n",
       "      <td>0.810613</td>\n",
       "    </tr>\n",
       "    <tr>\n",
       "      <th>macro avg</th>\n",
       "      <td>0.806025</td>\n",
       "      <td>0.796861</td>\n",
       "      <td>0.800508</td>\n",
       "      <td>1093.000000</td>\n",
       "    </tr>\n",
       "    <tr>\n",
       "      <th>weighted avg</th>\n",
       "      <td>0.809470</td>\n",
       "      <td>0.810613</td>\n",
       "      <td>0.809175</td>\n",
       "      <td>1093.000000</td>\n",
       "    </tr>\n",
       "  </tbody>\n",
       "</table>\n",
       "</div>"
      ],
      "text/plain": [
       "              precision    recall  f1-score      support\n",
       "male           0.788177  0.725624  0.755608   441.000000\n",
       "female         0.823872  0.868098  0.845407   652.000000\n",
       "accuracy       0.810613  0.810613  0.810613     0.810613\n",
       "macro avg      0.806025  0.796861  0.800508  1093.000000\n",
       "weighted avg   0.809470  0.810613  0.809175  1093.000000"
      ]
     },
     "execution_count": 13,
     "metadata": {},
     "output_type": "execute_result"
    }
   ],
   "source": [
    "# classification report\n",
    "cr = metrics.classification_report(y_test,y_pred,target_names=['male','female'],output_dict=True)\n",
    "pd.DataFrame(cr).T"
   ]
  },
  {
   "cell_type": "code",
   "execution_count": 14,
   "metadata": {},
   "outputs": [
    {
     "data": {
      "text/plain": [
       "0.6014455352408667"
      ]
     },
     "execution_count": 14,
     "metadata": {},
     "output_type": "execute_result"
    }
   ],
   "source": [
    "# kappa\n",
    "metrics.cohen_kappa_score(y_test,y_pred)"
   ]
  },
  {
   "cell_type": "markdown",
   "metadata": {},
   "source": [
    "# ROC and AUC"
   ]
  },
  {
   "cell_type": "code",
   "execution_count": 15,
   "metadata": {},
   "outputs": [
    {
     "data": {
      "image/png": "[encoded data removed]",
      "text/plain": [
       "<Figure size 720x432 with 1 Axes>"
      ]
     },
     "metadata": {
      "needs_background": "light"
     },
     "output_type": "display_data"
    }
   ],
   "source": [
    "# roc for female\n",
    "fpr,tpr,thresh = metrics.roc_curve(y_test,y_prob[:,1])\n",
    "auc_s = metrics.auc(fpr,tpr)\n",
    "plt.figure(figsize=(10,6))\n",
    "plt.plot(fpr,tpr,'-.')\n",
    "plt.plot([0,1],[0,1],'b--')\n",
    "for i in range(0,len(thresh),20):\n",
    "    plt.plot(fpr[i],tpr[i],'^')\n",
    "    plt.text(fpr[i],tpr[i],\"%0.2f\"%thresh[i])\n",
    "    \n",
    "plt.legend(['AUC Score = %0.2f'%auc_s])\n",
    "\n",
    "plt.xlabel('False Positve Rate')\n",
    "plt.ylabel('True Positive Rate')\n",
    "plt.title('Receiver Operating Characterstics')\n",
    "plt.show()"
   ]
  },
  {
   "cell_type": "markdown",
   "metadata": {},
   "source": [
    "# Hyper Parameter Tuning"
   ]
  },
  {
   "cell_type": "code",
   "execution_count": 16,
   "metadata": {},
   "outputs": [],
   "source": [
    "model_tune = SVC()"
   ]
  },
  {
   "cell_type": "code",
   "execution_count": 17,
   "metadata": {},
   "outputs": [],
   "source": [
    "from sklearn.model_selection import GridSearchCV"
   ]
  },
  {
   "cell_type": "code",
   "execution_count": 18,
   "metadata": {},
   "outputs": [],
   "source": [
    "param_grid = {'C':[1,10,20,30,50,100],\n",
    "             'kernel':['rbf','poly'],\n",
    "             'gamma':[0.1,0.05,0.01,0.001,0.002,0.005],\n",
    "             'coef0':[0,1],\n",
    "             }"
   ]
  },
  {
   "cell_type": "code",
   "execution_count": 19,
   "metadata": {},
   "outputs": [],
   "source": [
    "model_grid = GridSearchCV(model_tune,param_grid=param_grid,scoring='accuracy',cv=5,verbose=2)"
   ]
  },
  {
   "cell_type": "code",
   "execution_count": 20,
   "metadata": {},
   "outputs": [
    {
     "name": "stdout",
     "output_type": "stream",
     "text": [
      "Fitting 5 folds for each of 144 candidates, totalling 720 fits\n",
      "[CV] END ................C=1, coef0=0, gamma=0.1, kernel=rbf; total time=   4.2s\n",
      "[CV] END ................C=1, coef0=0, gamma=0.1, kernel=rbf; total time=   4.1s\n",
      "[CV] END ................C=1, coef0=0, gamma=0.1, kernel=rbf; total time=   3.9s\n",
      "[CV] END ................C=1, coef0=0, gamma=0.1, kernel=rbf; total time=   3.8s\n",
      "[CV] END ................C=1, coef0=0, gamma=0.1, kernel=rbf; total time=   3.8s\n",
      "[CV] END ...............C=1, coef0=0, gamma=0.1, kernel=poly; total time=   2.5s\n",
      "[CV] END ...............C=1, coef0=0, gamma=0.1, kernel=poly; total time=   2.8s\n",
      "[CV] END ...............C=1, coef0=0, gamma=0.1, kernel=poly; total time=   2.8s\n",
      "[CV] END ...............C=1, coef0=0, gamma=0.1, kernel=poly; total time=   2.4s\n",
      "[CV] END ...............C=1, coef0=0, gamma=0.1, kernel=poly; total time=   2.7s\n",
      "[CV] END ...............C=1, coef0=0, gamma=0.05, kernel=rbf; total time=   3.8s\n",
      "[CV] END ...............C=1, coef0=0, gamma=0.05, kernel=rbf; total time=   3.6s\n",
      "[CV] END ...............C=1, coef0=0, gamma=0.05, kernel=rbf; total time=   4.1s\n",
      "[CV] END ...............C=1, coef0=0, gamma=0.05, kernel=rbf; total time=   3.5s\n",
      "[CV] END ...............C=1, coef0=0, gamma=0.05, kernel=rbf; total time=   3.4s\n",
      "[CV] END ..............C=1, coef0=0, gamma=0.05, kernel=poly; total time=   2.7s\n",
      "[CV] END ..............C=1, coef0=0, gamma=0.05, kernel=poly; total time=   2.6s\n",
      "[CV] END ..............C=1, coef0=0, gamma=0.05, kernel=poly; total time=   2.4s\n",
      "[CV] END ..............C=1, coef0=0, gamma=0.05, kernel=poly; total time=   2.5s\n",
      "[CV] END ..............C=1, coef0=0, gamma=0.05, kernel=poly; total time=   2.6s\n",
      "[CV] END ...............C=1, coef0=0, gamma=0.01, kernel=rbf; total time=   2.7s\n",
      "[CV] END ...............C=1, coef0=0, gamma=0.01, kernel=rbf; total time=   2.6s\n",
      "[CV] END ...............C=1, coef0=0, gamma=0.01, kernel=rbf; total time=   2.6s\n",
      "[CV] END ...............C=1, coef0=0, gamma=0.01, kernel=rbf; total time=   2.6s\n",
      "[CV] END ...............C=1, coef0=0, gamma=0.01, kernel=rbf; total time=   2.6s\n",
      "[CV] END ..............C=1, coef0=0, gamma=0.01, kernel=poly; total time=   2.3s\n",
      "[CV] END ..............C=1, coef0=0, gamma=0.01, kernel=poly; total time=   2.1s\n",
      "[CV] END ..............C=1, coef0=0, gamma=0.01, kernel=poly; total time=   2.2s\n",
      "[CV] END ..............C=1, coef0=0, gamma=0.01, kernel=poly; total time=   2.6s\n",
      "[CV] END ..............C=1, coef0=0, gamma=0.01, kernel=poly; total time=   2.3s\n",
      "[CV] END ..............C=1, coef0=0, gamma=0.001, kernel=rbf; total time=   3.1s\n",
      "[CV] END ..............C=1, coef0=0, gamma=0.001, kernel=rbf; total time=   3.0s\n",
      "[CV] END ..............C=1, coef0=0, gamma=0.001, kernel=rbf; total time=   2.8s\n",
      "[CV] END ..............C=1, coef0=0, gamma=0.001, kernel=rbf; total time=   2.9s\n",
      "[CV] END ..............C=1, coef0=0, gamma=0.001, kernel=rbf; total time=   3.0s\n",
      "[CV] END .............C=1, coef0=0, gamma=0.001, kernel=poly; total time=   2.2s\n",
      "[CV] END .............C=1, coef0=0, gamma=0.001, kernel=poly; total time=   2.1s\n",
      "[CV] END .............C=1, coef0=0, gamma=0.001, kernel=poly; total time=   1.9s\n",
      "[CV] END .............C=1, coef0=0, gamma=0.001, kernel=poly; total time=   2.0s\n",
      "[CV] END .............C=1, coef0=0, gamma=0.001, kernel=poly; total time=   1.8s\n",
      "[CV] END ..............C=1, coef0=0, gamma=0.002, kernel=rbf; total time=   2.8s\n",
      "[CV] END ..............C=1, coef0=0, gamma=0.002, kernel=rbf; total time=   3.0s\n",
      "[CV] END ..............C=1, coef0=0, gamma=0.002, kernel=rbf; total time=   2.9s\n",
      "[CV] END ..............C=1, coef0=0, gamma=0.002, kernel=rbf; total time=   2.9s\n",
      "[CV] END ..............C=1, coef0=0, gamma=0.002, kernel=rbf; total time=   2.8s\n",
      "[CV] END .............C=1, coef0=0, gamma=0.002, kernel=poly; total time=   2.1s\n",
      "[CV] END .............C=1, coef0=0, gamma=0.002, kernel=poly; total time=   2.2s\n",
      "[CV] END .............C=1, coef0=0, gamma=0.002, kernel=poly; total time=   2.2s\n",
      "[CV] END .............C=1, coef0=0, gamma=0.002, kernel=poly; total time=   2.4s\n",
      "[CV] END .............C=1, coef0=0, gamma=0.002, kernel=poly; total time=   2.1s\n",
      "[CV] END ..............C=1, coef0=0, gamma=0.005, kernel=rbf; total time=   3.0s\n",
      "[CV] END ..............C=1, coef0=0, gamma=0.005, kernel=rbf; total time=   2.7s\n",
      "[CV] END ..............C=1, coef0=0, gamma=0.005, kernel=rbf; total time=   3.2s\n",
      "[CV] END ..............C=1, coef0=0, gamma=0.005, kernel=rbf; total time=   2.7s\n",
      "[CV] END ..............C=1, coef0=0, gamma=0.005, kernel=rbf; total time=   3.1s\n",
      "[CV] END .............C=1, coef0=0, gamma=0.005, kernel=poly; total time=   2.5s\n",
      "[CV] END .............C=1, coef0=0, gamma=0.005, kernel=poly; total time=   2.2s\n",
      "[CV] END .............C=1, coef0=0, gamma=0.005, kernel=poly; total time=   2.2s\n",
      "[CV] END .............C=1, coef0=0, gamma=0.005, kernel=poly; total time=   2.1s\n",
      "[CV] END .............C=1, coef0=0, gamma=0.005, kernel=poly; total time=   2.2s\n",
      "[CV] END ................C=1, coef0=1, gamma=0.1, kernel=rbf; total time=   4.3s\n",
      "[CV] END ................C=1, coef0=1, gamma=0.1, kernel=rbf; total time=   4.1s\n",
      "[CV] END ................C=1, coef0=1, gamma=0.1, kernel=rbf; total time=   3.8s\n",
      "[CV] END ................C=1, coef0=1, gamma=0.1, kernel=rbf; total time=   3.8s\n",
      "[CV] END ................C=1, coef0=1, gamma=0.1, kernel=rbf; total time=   3.8s\n",
      "[CV] END ...............C=1, coef0=1, gamma=0.1, kernel=poly; total time=   2.0s\n",
      "[CV] END ...............C=1, coef0=1, gamma=0.1, kernel=poly; total time=   1.9s\n",
      "[CV] END ...............C=1, coef0=1, gamma=0.1, kernel=poly; total time=   1.9s\n",
      "[CV] END ...............C=1, coef0=1, gamma=0.1, kernel=poly; total time=   1.9s\n",
      "[CV] END ...............C=1, coef0=1, gamma=0.1, kernel=poly; total time=   2.0s\n",
      "[CV] END ...............C=1, coef0=1, gamma=0.05, kernel=rbf; total time=   3.6s\n",
      "[CV] END ...............C=1, coef0=1, gamma=0.05, kernel=rbf; total time=   3.5s\n",
      "[CV] END ...............C=1, coef0=1, gamma=0.05, kernel=rbf; total time=   3.5s\n",
      "[CV] END ...............C=1, coef0=1, gamma=0.05, kernel=rbf; total time=   3.5s\n",
      "[CV] END ...............C=1, coef0=1, gamma=0.05, kernel=rbf; total time=   3.4s\n",
      "[CV] END ..............C=1, coef0=1, gamma=0.05, kernel=poly; total time=   1.7s\n",
      "[CV] END ..............C=1, coef0=1, gamma=0.05, kernel=poly; total time=   1.7s\n",
      "[CV] END ..............C=1, coef0=1, gamma=0.05, kernel=poly; total time=   1.7s\n",
      "[CV] END ..............C=1, coef0=1, gamma=0.05, kernel=poly; total time=   1.6s\n",
      "[CV] END ..............C=1, coef0=1, gamma=0.05, kernel=poly; total time=   1.7s\n",
      "[CV] END ...............C=1, coef0=1, gamma=0.01, kernel=rbf; total time=   2.6s\n",
      "[CV] END ...............C=1, coef0=1, gamma=0.01, kernel=rbf; total time=   2.6s\n",
      "[CV] END ...............C=1, coef0=1, gamma=0.01, kernel=rbf; total time=   2.6s\n",
      "[CV] END ...............C=1, coef0=1, gamma=0.01, kernel=rbf; total time=   2.8s\n",
      "[CV] END ...............C=1, coef0=1, gamma=0.01, kernel=rbf; total time=   3.0s\n",
      "[CV] END ..............C=1, coef0=1, gamma=0.01, kernel=poly; total time=   1.7s\n",
      "[CV] END ..............C=1, coef0=1, gamma=0.01, kernel=poly; total time=   2.0s\n",
      "[CV] END ..............C=1, coef0=1, gamma=0.01, kernel=poly; total time=   2.3s\n",
      "[CV] END ..............C=1, coef0=1, gamma=0.01, kernel=poly; total time=   1.7s\n",
      "[CV] END ..............C=1, coef0=1, gamma=0.01, kernel=poly; total time=   1.7s\n",
      "[CV] END ..............C=1, coef0=1, gamma=0.001, kernel=rbf; total time=   3.0s\n",
      "[CV] END ..............C=1, coef0=1, gamma=0.001, kernel=rbf; total time=   3.1s\n",
      "[CV] END ..............C=1, coef0=1, gamma=0.001, kernel=rbf; total time=   3.0s\n",
      "[CV] END ..............C=1, coef0=1, gamma=0.001, kernel=rbf; total time=   2.8s\n",
      "[CV] END ..............C=1, coef0=1, gamma=0.001, kernel=rbf; total time=   3.0s\n",
      "[CV] END .............C=1, coef0=1, gamma=0.001, kernel=poly; total time=   1.7s\n",
      "[CV] END .............C=1, coef0=1, gamma=0.001, kernel=poly; total time=   1.6s\n",
      "[CV] END .............C=1, coef0=1, gamma=0.001, kernel=poly; total time=   1.7s\n",
      "[CV] END .............C=1, coef0=1, gamma=0.001, kernel=poly; total time=   1.8s\n",
      "[CV] END .............C=1, coef0=1, gamma=0.001, kernel=poly; total time=   2.0s\n",
      "[CV] END ..............C=1, coef0=1, gamma=0.002, kernel=rbf; total time=   3.6s\n"
     ]
    },
    {
     "name": "stdout",
     "output_type": "stream",
     "text": [
      "[CV] END ..............C=1, coef0=1, gamma=0.002, kernel=rbf; total time=   3.0s\n",
      "[CV] END ..............C=1, coef0=1, gamma=0.002, kernel=rbf; total time=   3.8s\n",
      "[CV] END ..............C=1, coef0=1, gamma=0.002, kernel=rbf; total time=   2.9s\n",
      "[CV] END ..............C=1, coef0=1, gamma=0.002, kernel=rbf; total time=   2.7s\n",
      "[CV] END .............C=1, coef0=1, gamma=0.002, kernel=poly; total time=   1.7s\n",
      "[CV] END .............C=1, coef0=1, gamma=0.002, kernel=poly; total time=   1.6s\n",
      "[CV] END .............C=1, coef0=1, gamma=0.002, kernel=poly; total time=   1.6s\n",
      "[CV] END .............C=1, coef0=1, gamma=0.002, kernel=poly; total time=   1.7s\n",
      "[CV] END .............C=1, coef0=1, gamma=0.002, kernel=poly; total time=   1.5s\n",
      "[CV] END ..............C=1, coef0=1, gamma=0.005, kernel=rbf; total time=   3.1s\n",
      "[CV] END ..............C=1, coef0=1, gamma=0.005, kernel=rbf; total time=   3.0s\n",
      "[CV] END ..............C=1, coef0=1, gamma=0.005, kernel=rbf; total time=   2.9s\n",
      "[CV] END ..............C=1, coef0=1, gamma=0.005, kernel=rbf; total time=   3.0s\n",
      "[CV] END ..............C=1, coef0=1, gamma=0.005, kernel=rbf; total time=   2.7s\n",
      "[CV] END .............C=1, coef0=1, gamma=0.005, kernel=poly; total time=   1.5s\n",
      "[CV] END .............C=1, coef0=1, gamma=0.005, kernel=poly; total time=   1.5s\n",
      "[CV] END .............C=1, coef0=1, gamma=0.005, kernel=poly; total time=   1.5s\n",
      "[CV] END .............C=1, coef0=1, gamma=0.005, kernel=poly; total time=   1.5s\n",
      "[CV] END .............C=1, coef0=1, gamma=0.005, kernel=poly; total time=   1.4s\n",
      "[CV] END ...............C=10, coef0=0, gamma=0.1, kernel=rbf; total time=   3.4s\n",
      "[CV] END ...............C=10, coef0=0, gamma=0.1, kernel=rbf; total time=   3.5s\n",
      "[CV] END ...............C=10, coef0=0, gamma=0.1, kernel=rbf; total time=   3.7s\n",
      "[CV] END ...............C=10, coef0=0, gamma=0.1, kernel=rbf; total time=   3.7s\n",
      "[CV] END ...............C=10, coef0=0, gamma=0.1, kernel=rbf; total time=   3.7s\n",
      "[CV] END ..............C=10, coef0=0, gamma=0.1, kernel=poly; total time=   3.0s\n",
      "[CV] END ..............C=10, coef0=0, gamma=0.1, kernel=poly; total time=   2.9s\n",
      "[CV] END ..............C=10, coef0=0, gamma=0.1, kernel=poly; total time=   3.0s\n",
      "[CV] END ..............C=10, coef0=0, gamma=0.1, kernel=poly; total time=   2.5s\n",
      "[CV] END ..............C=10, coef0=0, gamma=0.1, kernel=poly; total time=   2.6s\n",
      "[CV] END ..............C=10, coef0=0, gamma=0.05, kernel=rbf; total time=   3.5s\n",
      "[CV] END ..............C=10, coef0=0, gamma=0.05, kernel=rbf; total time=   3.5s\n",
      "[CV] END ..............C=10, coef0=0, gamma=0.05, kernel=rbf; total time=   3.5s\n",
      "[CV] END ..............C=10, coef0=0, gamma=0.05, kernel=rbf; total time=   4.1s\n",
      "[CV] END ..............C=10, coef0=0, gamma=0.05, kernel=rbf; total time=   3.9s\n",
      "[CV] END .............C=10, coef0=0, gamma=0.05, kernel=poly; total time=   2.8s\n",
      "[CV] END .............C=10, coef0=0, gamma=0.05, kernel=poly; total time=   2.6s\n",
      "[CV] END .............C=10, coef0=0, gamma=0.05, kernel=poly; total time=   2.9s\n",
      "[CV] END .............C=10, coef0=0, gamma=0.05, kernel=poly; total time=   2.5s\n",
      "[CV] END .............C=10, coef0=0, gamma=0.05, kernel=poly; total time=   2.6s\n",
      "[CV] END ..............C=10, coef0=0, gamma=0.01, kernel=rbf; total time=   2.9s\n",
      "[CV] END ..............C=10, coef0=0, gamma=0.01, kernel=rbf; total time=   3.3s\n",
      "[CV] END ..............C=10, coef0=0, gamma=0.01, kernel=rbf; total time=   3.1s\n",
      "[CV] END ..............C=10, coef0=0, gamma=0.01, kernel=rbf; total time=   2.9s\n",
      "[CV] END ..............C=10, coef0=0, gamma=0.01, kernel=rbf; total time=   2.8s\n",
      "[CV] END .............C=10, coef0=0, gamma=0.01, kernel=poly; total time=   2.1s\n",
      "[CV] END .............C=10, coef0=0, gamma=0.01, kernel=poly; total time=   2.1s\n",
      "[CV] END .............C=10, coef0=0, gamma=0.01, kernel=poly; total time=   2.0s\n",
      "[CV] END .............C=10, coef0=0, gamma=0.01, kernel=poly; total time=   2.0s\n",
      "[CV] END .............C=10, coef0=0, gamma=0.01, kernel=poly; total time=   2.0s\n",
      "[CV] END .............C=10, coef0=0, gamma=0.001, kernel=rbf; total time=   2.6s\n",
      "[CV] END .............C=10, coef0=0, gamma=0.001, kernel=rbf; total time=   2.6s\n",
      "[CV] END .............C=10, coef0=0, gamma=0.001, kernel=rbf; total time=   2.7s\n",
      "[CV] END .............C=10, coef0=0, gamma=0.001, kernel=rbf; total time=   2.5s\n",
      "[CV] END .............C=10, coef0=0, gamma=0.001, kernel=rbf; total time=   2.5s\n",
      "[CV] END ............C=10, coef0=0, gamma=0.001, kernel=poly; total time=   2.0s\n",
      "[CV] END ............C=10, coef0=0, gamma=0.001, kernel=poly; total time=   2.1s\n",
      "[CV] END ............C=10, coef0=0, gamma=0.001, kernel=poly; total time=   2.5s\n",
      "[CV] END ............C=10, coef0=0, gamma=0.001, kernel=poly; total time=   2.3s\n",
      "[CV] END ............C=10, coef0=0, gamma=0.001, kernel=poly; total time=   2.3s\n",
      "[CV] END .............C=10, coef0=0, gamma=0.002, kernel=rbf; total time=   2.7s\n",
      "[CV] END .............C=10, coef0=0, gamma=0.002, kernel=rbf; total time=   2.7s\n",
      "[CV] END .............C=10, coef0=0, gamma=0.002, kernel=rbf; total time=   2.6s\n",
      "[CV] END .............C=10, coef0=0, gamma=0.002, kernel=rbf; total time=   2.6s\n",
      "[CV] END .............C=10, coef0=0, gamma=0.002, kernel=rbf; total time=   2.6s\n",
      "[CV] END ............C=10, coef0=0, gamma=0.002, kernel=poly; total time=   2.1s\n",
      "[CV] END ............C=10, coef0=0, gamma=0.002, kernel=poly; total time=   2.2s\n",
      "[CV] END ............C=10, coef0=0, gamma=0.002, kernel=poly; total time=   2.5s\n",
      "[CV] END ............C=10, coef0=0, gamma=0.002, kernel=poly; total time=   2.2s\n",
      "[CV] END ............C=10, coef0=0, gamma=0.002, kernel=poly; total time=   1.1s\n",
      "[CV] END .............C=10, coef0=0, gamma=0.005, kernel=rbf; total time=   1.5s\n",
      "[CV] END .............C=10, coef0=0, gamma=0.005, kernel=rbf; total time=   1.7s\n",
      "[CV] END .............C=10, coef0=0, gamma=0.005, kernel=rbf; total time=   1.8s\n",
      "[CV] END .............C=10, coef0=0, gamma=0.005, kernel=rbf; total time=   2.8s\n",
      "[CV] END .............C=10, coef0=0, gamma=0.005, kernel=rbf; total time=   3.5s\n",
      "[CV] END ............C=10, coef0=0, gamma=0.005, kernel=poly; total time=   2.6s\n",
      "[CV] END ............C=10, coef0=0, gamma=0.005, kernel=poly; total time=   2.3s\n",
      "[CV] END ............C=10, coef0=0, gamma=0.005, kernel=poly; total time=   1.7s\n",
      "[CV] END ............C=10, coef0=0, gamma=0.005, kernel=poly; total time=   1.3s\n",
      "[CV] END ............C=10, coef0=0, gamma=0.005, kernel=poly; total time=   1.3s\n",
      "[CV] END ...............C=10, coef0=1, gamma=0.1, kernel=rbf; total time=   1.9s\n",
      "[CV] END ...............C=10, coef0=1, gamma=0.1, kernel=rbf; total time=   1.9s\n",
      "[CV] END ...............C=10, coef0=1, gamma=0.1, kernel=rbf; total time=   3.0s\n",
      "[CV] END ...............C=10, coef0=1, gamma=0.1, kernel=rbf; total time=   3.6s\n",
      "[CV] END ...............C=10, coef0=1, gamma=0.1, kernel=rbf; total time=   3.9s\n",
      "[CV] END ..............C=10, coef0=1, gamma=0.1, kernel=poly; total time=   2.2s\n",
      "[CV] END ..............C=10, coef0=1, gamma=0.1, kernel=poly; total time=   2.0s\n",
      "[CV] END ..............C=10, coef0=1, gamma=0.1, kernel=poly; total time=   1.9s\n",
      "[CV] END ..............C=10, coef0=1, gamma=0.1, kernel=poly; total time=   1.9s\n",
      "[CV] END ..............C=10, coef0=1, gamma=0.1, kernel=poly; total time=   1.9s\n",
      "[CV] END ..............C=10, coef0=1, gamma=0.05, kernel=rbf; total time=   3.4s\n",
      "[CV] END ..............C=10, coef0=1, gamma=0.05, kernel=rbf; total time=   3.4s\n",
      "[CV] END ..............C=10, coef0=1, gamma=0.05, kernel=rbf; total time=   3.4s\n",
      "[CV] END ..............C=10, coef0=1, gamma=0.05, kernel=rbf; total time=   3.3s\n",
      "[CV] END ..............C=10, coef0=1, gamma=0.05, kernel=rbf; total time=   3.4s\n",
      "[CV] END .............C=10, coef0=1, gamma=0.05, kernel=poly; total time=   1.7s\n",
      "[CV] END .............C=10, coef0=1, gamma=0.05, kernel=poly; total time=   1.7s\n",
      "[CV] END .............C=10, coef0=1, gamma=0.05, kernel=poly; total time=   1.7s\n",
      "[CV] END .............C=10, coef0=1, gamma=0.05, kernel=poly; total time=   1.6s\n",
      "[CV] END .............C=10, coef0=1, gamma=0.05, kernel=poly; total time=   1.7s\n",
      "[CV] END ..............C=10, coef0=1, gamma=0.01, kernel=rbf; total time=   2.9s\n",
      "[CV] END ..............C=10, coef0=1, gamma=0.01, kernel=rbf; total time=   3.0s\n",
      "[CV] END ..............C=10, coef0=1, gamma=0.01, kernel=rbf; total time=   2.9s\n"
     ]
    },
    {
     "name": "stdout",
     "output_type": "stream",
     "text": [
      "[CV] END ..............C=10, coef0=1, gamma=0.01, kernel=rbf; total time=   3.0s\n",
      "[CV] END ..............C=10, coef0=1, gamma=0.01, kernel=rbf; total time=   3.0s\n",
      "[CV] END .............C=10, coef0=1, gamma=0.01, kernel=poly; total time=   2.8s\n",
      "[CV] END .............C=10, coef0=1, gamma=0.01, kernel=poly; total time=   2.7s\n",
      "[CV] END .............C=10, coef0=1, gamma=0.01, kernel=poly; total time=   3.1s\n",
      "[CV] END .............C=10, coef0=1, gamma=0.01, kernel=poly; total time=   2.7s\n",
      "[CV] END .............C=10, coef0=1, gamma=0.01, kernel=poly; total time=   3.0s\n",
      "[CV] END .............C=10, coef0=1, gamma=0.001, kernel=rbf; total time=   3.1s\n",
      "[CV] END .............C=10, coef0=1, gamma=0.001, kernel=rbf; total time=   3.1s\n",
      "[CV] END .............C=10, coef0=1, gamma=0.001, kernel=rbf; total time=   2.8s\n",
      "[CV] END .............C=10, coef0=1, gamma=0.001, kernel=rbf; total time=   2.7s\n",
      "[CV] END .............C=10, coef0=1, gamma=0.001, kernel=rbf; total time=   2.8s\n",
      "[CV] END ............C=10, coef0=1, gamma=0.001, kernel=poly; total time=   1.7s\n",
      "[CV] END ............C=10, coef0=1, gamma=0.001, kernel=poly; total time=   1.7s\n",
      "[CV] END ............C=10, coef0=1, gamma=0.001, kernel=poly; total time=   1.6s\n",
      "[CV] END ............C=10, coef0=1, gamma=0.001, kernel=poly; total time=   1.6s\n",
      "[CV] END ............C=10, coef0=1, gamma=0.001, kernel=poly; total time=   1.6s\n",
      "[CV] END .............C=10, coef0=1, gamma=0.002, kernel=rbf; total time=   2.7s\n",
      "[CV] END .............C=10, coef0=1, gamma=0.002, kernel=rbf; total time=   2.6s\n",
      "[CV] END .............C=10, coef0=1, gamma=0.002, kernel=rbf; total time=   2.7s\n",
      "[CV] END .............C=10, coef0=1, gamma=0.002, kernel=rbf; total time=   2.6s\n",
      "[CV] END .............C=10, coef0=1, gamma=0.002, kernel=rbf; total time=   2.6s\n",
      "[CV] END ............C=10, coef0=1, gamma=0.002, kernel=poly; total time=   1.8s\n",
      "[CV] END ............C=10, coef0=1, gamma=0.002, kernel=poly; total time=   1.8s\n",
      "[CV] END ............C=10, coef0=1, gamma=0.002, kernel=poly; total time=   1.9s\n",
      "[CV] END ............C=10, coef0=1, gamma=0.002, kernel=poly; total time=   1.8s\n",
      "[CV] END ............C=10, coef0=1, gamma=0.002, kernel=poly; total time=   1.8s\n",
      "[CV] END .............C=10, coef0=1, gamma=0.005, kernel=rbf; total time=   2.8s\n",
      "[CV] END .............C=10, coef0=1, gamma=0.005, kernel=rbf; total time=   2.9s\n",
      "[CV] END .............C=10, coef0=1, gamma=0.005, kernel=rbf; total time=   3.4s\n",
      "[CV] END .............C=10, coef0=1, gamma=0.005, kernel=rbf; total time=   2.8s\n",
      "[CV] END .............C=10, coef0=1, gamma=0.005, kernel=rbf; total time=   2.8s\n",
      "[CV] END ............C=10, coef0=1, gamma=0.005, kernel=poly; total time=   2.5s\n",
      "[CV] END ............C=10, coef0=1, gamma=0.005, kernel=poly; total time=   2.5s\n",
      "[CV] END ............C=10, coef0=1, gamma=0.005, kernel=poly; total time=   2.3s\n",
      "[CV] END ............C=10, coef0=1, gamma=0.005, kernel=poly; total time=   2.1s\n",
      "[CV] END ............C=10, coef0=1, gamma=0.005, kernel=poly; total time=   2.2s\n",
      "[CV] END ...............C=20, coef0=0, gamma=0.1, kernel=rbf; total time=   3.4s\n",
      "[CV] END ...............C=20, coef0=0, gamma=0.1, kernel=rbf; total time=   3.3s\n",
      "[CV] END ...............C=20, coef0=0, gamma=0.1, kernel=rbf; total time=   3.4s\n",
      "[CV] END ...............C=20, coef0=0, gamma=0.1, kernel=rbf; total time=   3.4s\n",
      "[CV] END ...............C=20, coef0=0, gamma=0.1, kernel=rbf; total time=   3.4s\n",
      "[CV] END ..............C=20, coef0=0, gamma=0.1, kernel=poly; total time=   2.7s\n",
      "[CV] END ..............C=20, coef0=0, gamma=0.1, kernel=poly; total time=   2.7s\n",
      "[CV] END ..............C=20, coef0=0, gamma=0.1, kernel=poly; total time=   2.8s\n",
      "[CV] END ..............C=20, coef0=0, gamma=0.1, kernel=poly; total time=   2.5s\n",
      "[CV] END ..............C=20, coef0=0, gamma=0.1, kernel=poly; total time=   2.5s\n",
      "[CV] END ..............C=20, coef0=0, gamma=0.05, kernel=rbf; total time=   3.3s\n",
      "[CV] END ..............C=20, coef0=0, gamma=0.05, kernel=rbf; total time=   3.5s\n",
      "[CV] END ..............C=20, coef0=0, gamma=0.05, kernel=rbf; total time=   3.3s\n",
      "[CV] END ..............C=20, coef0=0, gamma=0.05, kernel=rbf; total time=   3.4s\n",
      "[CV] END ..............C=20, coef0=0, gamma=0.05, kernel=rbf; total time=   3.4s\n",
      "[CV] END .............C=20, coef0=0, gamma=0.05, kernel=poly; total time=   2.7s\n",
      "[CV] END .............C=20, coef0=0, gamma=0.05, kernel=poly; total time=   3.0s\n",
      "[CV] END .............C=20, coef0=0, gamma=0.05, kernel=poly; total time=   3.3s\n",
      "[CV] END .............C=20, coef0=0, gamma=0.05, kernel=poly; total time=   2.9s\n",
      "[CV] END .............C=20, coef0=0, gamma=0.05, kernel=poly; total time=   2.5s\n",
      "[CV] END ..............C=20, coef0=0, gamma=0.01, kernel=rbf; total time=   3.2s\n",
      "[CV] END ..............C=20, coef0=0, gamma=0.01, kernel=rbf; total time=   3.1s\n",
      "[CV] END ..............C=20, coef0=0, gamma=0.01, kernel=rbf; total time=   3.2s\n",
      "[CV] END ..............C=20, coef0=0, gamma=0.01, kernel=rbf; total time=   3.0s\n",
      "[CV] END ..............C=20, coef0=0, gamma=0.01, kernel=rbf; total time=   3.1s\n",
      "[CV] END .............C=20, coef0=0, gamma=0.01, kernel=poly; total time=   2.0s\n",
      "[CV] END .............C=20, coef0=0, gamma=0.01, kernel=poly; total time=   2.0s\n",
      "[CV] END .............C=20, coef0=0, gamma=0.01, kernel=poly; total time=   2.0s\n",
      "[CV] END .............C=20, coef0=0, gamma=0.01, kernel=poly; total time=   1.9s\n",
      "[CV] END .............C=20, coef0=0, gamma=0.01, kernel=poly; total time=   2.0s\n",
      "[CV] END .............C=20, coef0=0, gamma=0.001, kernel=rbf; total time=   2.7s\n",
      "[CV] END .............C=20, coef0=0, gamma=0.001, kernel=rbf; total time=   2.7s\n",
      "[CV] END .............C=20, coef0=0, gamma=0.001, kernel=rbf; total time=   2.7s\n",
      "[CV] END .............C=20, coef0=0, gamma=0.001, kernel=rbf; total time=   2.6s\n",
      "[CV] END .............C=20, coef0=0, gamma=0.001, kernel=rbf; total time=   2.7s\n",
      "[CV] END ............C=20, coef0=0, gamma=0.001, kernel=poly; total time=   2.1s\n",
      "[CV] END ............C=20, coef0=0, gamma=0.001, kernel=poly; total time=   2.1s\n",
      "[CV] END ............C=20, coef0=0, gamma=0.001, kernel=poly; total time=   2.1s\n",
      "[CV] END ............C=20, coef0=0, gamma=0.001, kernel=poly; total time=   2.1s\n",
      "[CV] END ............C=20, coef0=0, gamma=0.001, kernel=poly; total time=   2.1s\n",
      "[CV] END .............C=20, coef0=0, gamma=0.002, kernel=rbf; total time=   2.9s\n",
      "[CV] END .............C=20, coef0=0, gamma=0.002, kernel=rbf; total time=   2.8s\n",
      "[CV] END .............C=20, coef0=0, gamma=0.002, kernel=rbf; total time=   3.4s\n",
      "[CV] END .............C=20, coef0=0, gamma=0.002, kernel=rbf; total time=   3.0s\n",
      "[CV] END .............C=20, coef0=0, gamma=0.002, kernel=rbf; total time=   2.8s\n",
      "[CV] END ............C=20, coef0=0, gamma=0.002, kernel=poly; total time=   2.1s\n",
      "[CV] END ............C=20, coef0=0, gamma=0.002, kernel=poly; total time=   2.1s\n",
      "[CV] END ............C=20, coef0=0, gamma=0.002, kernel=poly; total time=   2.1s\n",
      "[CV] END ............C=20, coef0=0, gamma=0.002, kernel=poly; total time=   2.1s\n",
      "[CV] END ............C=20, coef0=0, gamma=0.002, kernel=poly; total time=   2.1s\n",
      "[CV] END .............C=20, coef0=0, gamma=0.005, kernel=rbf; total time=   3.0s\n",
      "[CV] END .............C=20, coef0=0, gamma=0.005, kernel=rbf; total time=   3.1s\n",
      "[CV] END .............C=20, coef0=0, gamma=0.005, kernel=rbf; total time=   3.0s\n",
      "[CV] END .............C=20, coef0=0, gamma=0.005, kernel=rbf; total time=   2.9s\n",
      "[CV] END .............C=20, coef0=0, gamma=0.005, kernel=rbf; total time=   3.2s\n",
      "[CV] END ............C=20, coef0=0, gamma=0.005, kernel=poly; total time=   2.5s\n",
      "[CV] END ............C=20, coef0=0, gamma=0.005, kernel=poly; total time=   2.2s\n",
      "[CV] END ............C=20, coef0=0, gamma=0.005, kernel=poly; total time=   2.1s\n",
      "[CV] END ............C=20, coef0=0, gamma=0.005, kernel=poly; total time=   2.1s\n",
      "[CV] END ............C=20, coef0=0, gamma=0.005, kernel=poly; total time=   2.1s\n",
      "[CV] END ...............C=20, coef0=1, gamma=0.1, kernel=rbf; total time=   3.4s\n",
      "[CV] END ...............C=20, coef0=1, gamma=0.1, kernel=rbf; total time=   3.4s\n",
      "[CV] END ...............C=20, coef0=1, gamma=0.1, kernel=rbf; total time=   3.5s\n",
      "[CV] END ...............C=20, coef0=1, gamma=0.1, kernel=rbf; total time=   3.4s\n",
      "[CV] END ...............C=20, coef0=1, gamma=0.1, kernel=rbf; total time=   3.4s\n"
     ]
    },
    {
     "name": "stdout",
     "output_type": "stream",
     "text": [
      "[CV] END ..............C=20, coef0=1, gamma=0.1, kernel=poly; total time=   2.2s\n",
      "[CV] END ..............C=20, coef0=1, gamma=0.1, kernel=poly; total time=   2.3s\n",
      "[CV] END ..............C=20, coef0=1, gamma=0.1, kernel=poly; total time=   2.1s\n",
      "[CV] END ..............C=20, coef0=1, gamma=0.1, kernel=poly; total time=   1.9s\n",
      "[CV] END ..............C=20, coef0=1, gamma=0.1, kernel=poly; total time=   1.9s\n",
      "[CV] END ..............C=20, coef0=1, gamma=0.05, kernel=rbf; total time=   3.4s\n",
      "[CV] END ..............C=20, coef0=1, gamma=0.05, kernel=rbf; total time=   3.4s\n",
      "[CV] END ..............C=20, coef0=1, gamma=0.05, kernel=rbf; total time=   3.3s\n",
      "[CV] END ..............C=20, coef0=1, gamma=0.05, kernel=rbf; total time=   3.3s\n",
      "[CV] END ..............C=20, coef0=1, gamma=0.05, kernel=rbf; total time=   3.4s\n",
      "[CV] END .............C=20, coef0=1, gamma=0.05, kernel=poly; total time=   1.7s\n",
      "[CV] END .............C=20, coef0=1, gamma=0.05, kernel=poly; total time=   1.7s\n",
      "[CV] END .............C=20, coef0=1, gamma=0.05, kernel=poly; total time=   1.7s\n",
      "[CV] END .............C=20, coef0=1, gamma=0.05, kernel=poly; total time=   1.6s\n",
      "[CV] END .............C=20, coef0=1, gamma=0.05, kernel=poly; total time=   1.7s\n",
      "[CV] END ..............C=20, coef0=1, gamma=0.01, kernel=rbf; total time=   3.2s\n",
      "[CV] END ..............C=20, coef0=1, gamma=0.01, kernel=rbf; total time=   3.3s\n",
      "[CV] END ..............C=20, coef0=1, gamma=0.01, kernel=rbf; total time=   3.3s\n",
      "[CV] END ..............C=20, coef0=1, gamma=0.01, kernel=rbf; total time=   3.0s\n",
      "[CV] END ..............C=20, coef0=1, gamma=0.01, kernel=rbf; total time=   3.1s\n",
      "[CV] END .............C=20, coef0=1, gamma=0.01, kernel=poly; total time=   3.3s\n",
      "[CV] END .............C=20, coef0=1, gamma=0.01, kernel=poly; total time=   3.6s\n",
      "[CV] END .............C=20, coef0=1, gamma=0.01, kernel=poly; total time=   3.2s\n",
      "[CV] END .............C=20, coef0=1, gamma=0.01, kernel=poly; total time=   3.2s\n",
      "[CV] END .............C=20, coef0=1, gamma=0.01, kernel=poly; total time=   3.8s\n",
      "[CV] END .............C=20, coef0=1, gamma=0.001, kernel=rbf; total time=   2.8s\n",
      "[CV] END .............C=20, coef0=1, gamma=0.001, kernel=rbf; total time=   2.7s\n",
      "[CV] END .............C=20, coef0=1, gamma=0.001, kernel=rbf; total time=   2.6s\n",
      "[CV] END .............C=20, coef0=1, gamma=0.001, kernel=rbf; total time=   2.6s\n",
      "[CV] END .............C=20, coef0=1, gamma=0.001, kernel=rbf; total time=   2.7s\n",
      "[CV] END ............C=20, coef0=1, gamma=0.001, kernel=poly; total time=   1.8s\n",
      "[CV] END ............C=20, coef0=1, gamma=0.001, kernel=poly; total time=   1.8s\n",
      "[CV] END ............C=20, coef0=1, gamma=0.001, kernel=poly; total time=   1.8s\n",
      "[CV] END ............C=20, coef0=1, gamma=0.001, kernel=poly; total time=   2.0s\n",
      "[CV] END ............C=20, coef0=1, gamma=0.001, kernel=poly; total time=   1.8s\n",
      "[CV] END .............C=20, coef0=1, gamma=0.002, kernel=rbf; total time=   2.9s\n",
      "[CV] END .............C=20, coef0=1, gamma=0.002, kernel=rbf; total time=   2.9s\n",
      "[CV] END .............C=20, coef0=1, gamma=0.002, kernel=rbf; total time=   2.9s\n",
      "[CV] END .............C=20, coef0=1, gamma=0.002, kernel=rbf; total time=   2.8s\n",
      "[CV] END .............C=20, coef0=1, gamma=0.002, kernel=rbf; total time=   2.9s\n",
      "[CV] END ............C=20, coef0=1, gamma=0.002, kernel=poly; total time=   2.1s\n",
      "[CV] END ............C=20, coef0=1, gamma=0.002, kernel=poly; total time=   2.2s\n",
      "[CV] END ............C=20, coef0=1, gamma=0.002, kernel=poly; total time=   2.1s\n",
      "[CV] END ............C=20, coef0=1, gamma=0.002, kernel=poly; total time=   2.1s\n",
      "[CV] END ............C=20, coef0=1, gamma=0.002, kernel=poly; total time=   2.1s\n",
      "[CV] END .............C=20, coef0=1, gamma=0.005, kernel=rbf; total time=   3.1s\n",
      "[CV] END .............C=20, coef0=1, gamma=0.005, kernel=rbf; total time=   3.1s\n",
      "[CV] END .............C=20, coef0=1, gamma=0.005, kernel=rbf; total time=   3.3s\n",
      "[CV] END .............C=20, coef0=1, gamma=0.005, kernel=rbf; total time=   3.2s\n",
      "[CV] END .............C=20, coef0=1, gamma=0.005, kernel=rbf; total time=   3.4s\n",
      "[CV] END ............C=20, coef0=1, gamma=0.005, kernel=poly; total time=   2.9s\n",
      "[CV] END ............C=20, coef0=1, gamma=0.005, kernel=poly; total time=   2.8s\n",
      "[CV] END ............C=20, coef0=1, gamma=0.005, kernel=poly; total time=   2.8s\n",
      "[CV] END ............C=20, coef0=1, gamma=0.005, kernel=poly; total time=   2.7s\n",
      "[CV] END ............C=20, coef0=1, gamma=0.005, kernel=poly; total time=   2.9s\n",
      "[CV] END ...............C=30, coef0=0, gamma=0.1, kernel=rbf; total time=   3.4s\n",
      "[CV] END ...............C=30, coef0=0, gamma=0.1, kernel=rbf; total time=   3.4s\n",
      "[CV] END ...............C=30, coef0=0, gamma=0.1, kernel=rbf; total time=   3.4s\n",
      "[CV] END ...............C=30, coef0=0, gamma=0.1, kernel=rbf; total time=   3.4s\n",
      "[CV] END ...............C=30, coef0=0, gamma=0.1, kernel=rbf; total time=   3.6s\n",
      "[CV] END ..............C=30, coef0=0, gamma=0.1, kernel=poly; total time=   2.7s\n",
      "[CV] END ..............C=30, coef0=0, gamma=0.1, kernel=poly; total time=   2.6s\n",
      "[CV] END ..............C=30, coef0=0, gamma=0.1, kernel=poly; total time=   2.7s\n",
      "[CV] END ..............C=30, coef0=0, gamma=0.1, kernel=poly; total time=   2.5s\n",
      "[CV] END ..............C=30, coef0=0, gamma=0.1, kernel=poly; total time=   2.6s\n",
      "[CV] END ..............C=30, coef0=0, gamma=0.05, kernel=rbf; total time=   3.4s\n",
      "[CV] END ..............C=30, coef0=0, gamma=0.05, kernel=rbf; total time=   3.3s\n",
      "[CV] END ..............C=30, coef0=0, gamma=0.05, kernel=rbf; total time=   3.3s\n",
      "[CV] END ..............C=30, coef0=0, gamma=0.05, kernel=rbf; total time=   3.4s\n",
      "[CV] END ..............C=30, coef0=0, gamma=0.05, kernel=rbf; total time=   3.8s\n",
      "[CV] END .............C=30, coef0=0, gamma=0.05, kernel=poly; total time=   3.1s\n",
      "[CV] END .............C=30, coef0=0, gamma=0.05, kernel=poly; total time=   3.0s\n",
      "[CV] END .............C=30, coef0=0, gamma=0.05, kernel=poly; total time=   2.8s\n",
      "[CV] END .............C=30, coef0=0, gamma=0.05, kernel=poly; total time=   2.7s\n",
      "[CV] END .............C=30, coef0=0, gamma=0.05, kernel=poly; total time=   2.9s\n",
      "[CV] END ..............C=30, coef0=0, gamma=0.01, kernel=rbf; total time=   3.8s\n",
      "[CV] END ..............C=30, coef0=0, gamma=0.01, kernel=rbf; total time=   3.3s\n",
      "[CV] END ..............C=30, coef0=0, gamma=0.01, kernel=rbf; total time=   3.3s\n",
      "[CV] END ..............C=30, coef0=0, gamma=0.01, kernel=rbf; total time=   3.2s\n",
      "[CV] END ..............C=30, coef0=0, gamma=0.01, kernel=rbf; total time=   3.3s\n",
      "[CV] END .............C=30, coef0=0, gamma=0.01, kernel=poly; total time=   2.1s\n",
      "[CV] END .............C=30, coef0=0, gamma=0.01, kernel=poly; total time=   2.1s\n",
      "[CV] END .............C=30, coef0=0, gamma=0.01, kernel=poly; total time=   2.1s\n",
      "[CV] END .............C=30, coef0=0, gamma=0.01, kernel=poly; total time=   2.5s\n",
      "[CV] END .............C=30, coef0=0, gamma=0.01, kernel=poly; total time=   2.1s\n",
      "[CV] END .............C=30, coef0=0, gamma=0.001, kernel=rbf; total time=   2.9s\n",
      "[CV] END .............C=30, coef0=0, gamma=0.001, kernel=rbf; total time=   2.7s\n",
      "[CV] END .............C=30, coef0=0, gamma=0.001, kernel=rbf; total time=   2.8s\n",
      "[CV] END .............C=30, coef0=0, gamma=0.001, kernel=rbf; total time=   3.0s\n",
      "[CV] END .............C=30, coef0=0, gamma=0.001, kernel=rbf; total time=   2.8s\n",
      "[CV] END ............C=30, coef0=0, gamma=0.001, kernel=poly; total time=   2.1s\n",
      "[CV] END ............C=30, coef0=0, gamma=0.001, kernel=poly; total time=   2.1s\n",
      "[CV] END ............C=30, coef0=0, gamma=0.001, kernel=poly; total time=   2.5s\n",
      "[CV] END ............C=30, coef0=0, gamma=0.001, kernel=poly; total time=   2.4s\n",
      "[CV] END ............C=30, coef0=0, gamma=0.001, kernel=poly; total time=   2.2s\n",
      "[CV] END .............C=30, coef0=0, gamma=0.002, kernel=rbf; total time=   3.0s\n",
      "[CV] END .............C=30, coef0=0, gamma=0.002, kernel=rbf; total time=   3.0s\n",
      "[CV] END .............C=30, coef0=0, gamma=0.002, kernel=rbf; total time=   3.1s\n",
      "[CV] END .............C=30, coef0=0, gamma=0.002, kernel=rbf; total time=   3.2s\n",
      "[CV] END .............C=30, coef0=0, gamma=0.002, kernel=rbf; total time=   3.1s\n",
      "[CV] END ............C=30, coef0=0, gamma=0.002, kernel=poly; total time=   2.1s\n",
      "[CV] END ............C=30, coef0=0, gamma=0.002, kernel=poly; total time=   1.9s\n"
     ]
    },
    {
     "name": "stdout",
     "output_type": "stream",
     "text": [
      "[CV] END ............C=30, coef0=0, gamma=0.002, kernel=poly; total time=   2.3s\n",
      "[CV] END ............C=30, coef0=0, gamma=0.002, kernel=poly; total time=   2.1s\n",
      "[CV] END ............C=30, coef0=0, gamma=0.002, kernel=poly; total time=   2.1s\n",
      "[CV] END .............C=30, coef0=0, gamma=0.005, kernel=rbf; total time=   3.3s\n",
      "[CV] END .............C=30, coef0=0, gamma=0.005, kernel=rbf; total time=   3.3s\n",
      "[CV] END .............C=30, coef0=0, gamma=0.005, kernel=rbf; total time=   3.3s\n",
      "[CV] END .............C=30, coef0=0, gamma=0.005, kernel=rbf; total time=   3.2s\n",
      "[CV] END .............C=30, coef0=0, gamma=0.005, kernel=rbf; total time=   3.2s\n",
      "[CV] END ............C=30, coef0=0, gamma=0.005, kernel=poly; total time=   2.1s\n",
      "[CV] END ............C=30, coef0=0, gamma=0.005, kernel=poly; total time=   2.1s\n",
      "[CV] END ............C=30, coef0=0, gamma=0.005, kernel=poly; total time=   2.0s\n",
      "[CV] END ............C=30, coef0=0, gamma=0.005, kernel=poly; total time=   2.0s\n",
      "[CV] END ............C=30, coef0=0, gamma=0.005, kernel=poly; total time=   2.0s\n",
      "[CV] END ...............C=30, coef0=1, gamma=0.1, kernel=rbf; total time=   3.4s\n",
      "[CV] END ...............C=30, coef0=1, gamma=0.1, kernel=rbf; total time=   3.9s\n",
      "[CV] END ...............C=30, coef0=1, gamma=0.1, kernel=rbf; total time=   3.7s\n",
      "[CV] END ...............C=30, coef0=1, gamma=0.1, kernel=rbf; total time=   3.4s\n",
      "[CV] END ...............C=30, coef0=1, gamma=0.1, kernel=rbf; total time=   3.5s\n",
      "[CV] END ..............C=30, coef0=1, gamma=0.1, kernel=poly; total time=   1.9s\n",
      "[CV] END ..............C=30, coef0=1, gamma=0.1, kernel=poly; total time=   1.9s\n",
      "[CV] END ..............C=30, coef0=1, gamma=0.1, kernel=poly; total time=   1.9s\n",
      "[CV] END ..............C=30, coef0=1, gamma=0.1, kernel=poly; total time=   2.1s\n",
      "[CV] END ..............C=30, coef0=1, gamma=0.1, kernel=poly; total time=   2.4s\n",
      "[CV] END ..............C=30, coef0=1, gamma=0.05, kernel=rbf; total time=   4.0s\n",
      "[CV] END ..............C=30, coef0=1, gamma=0.05, kernel=rbf; total time=   3.9s\n",
      "[CV] END ..............C=30, coef0=1, gamma=0.05, kernel=rbf; total time=   3.7s\n",
      "[CV] END ..............C=30, coef0=1, gamma=0.05, kernel=rbf; total time=   3.7s\n",
      "[CV] END ..............C=30, coef0=1, gamma=0.05, kernel=rbf; total time=   3.6s\n",
      "[CV] END .............C=30, coef0=1, gamma=0.05, kernel=poly; total time=   2.0s\n",
      "[CV] END .............C=30, coef0=1, gamma=0.05, kernel=poly; total time=   1.7s\n",
      "[CV] END .............C=30, coef0=1, gamma=0.05, kernel=poly; total time=   1.7s\n",
      "[CV] END .............C=30, coef0=1, gamma=0.05, kernel=poly; total time=   1.6s\n",
      "[CV] END .............C=30, coef0=1, gamma=0.05, kernel=poly; total time=   1.7s\n",
      "[CV] END ..............C=30, coef0=1, gamma=0.01, kernel=rbf; total time=   3.4s\n",
      "[CV] END ..............C=30, coef0=1, gamma=0.01, kernel=rbf; total time=   3.3s\n",
      "[CV] END ..............C=30, coef0=1, gamma=0.01, kernel=rbf; total time=   3.3s\n",
      "[CV] END ..............C=30, coef0=1, gamma=0.01, kernel=rbf; total time=   3.5s\n",
      "[CV] END ..............C=30, coef0=1, gamma=0.01, kernel=rbf; total time=   3.9s\n",
      "[CV] END .............C=30, coef0=1, gamma=0.01, kernel=poly; total time=   3.7s\n",
      "[CV] END .............C=30, coef0=1, gamma=0.01, kernel=poly; total time=   3.5s\n",
      "[CV] END .............C=30, coef0=1, gamma=0.01, kernel=poly; total time=   3.4s\n",
      "[CV] END .............C=30, coef0=1, gamma=0.01, kernel=poly; total time=   3.3s\n",
      "[CV] END .............C=30, coef0=1, gamma=0.01, kernel=poly; total time=   3.5s\n",
      "[CV] END .............C=30, coef0=1, gamma=0.001, kernel=rbf; total time=   3.0s\n",
      "[CV] END .............C=30, coef0=1, gamma=0.001, kernel=rbf; total time=   2.9s\n",
      "[CV] END .............C=30, coef0=1, gamma=0.001, kernel=rbf; total time=   2.9s\n",
      "[CV] END .............C=30, coef0=1, gamma=0.001, kernel=rbf; total time=   2.9s\n",
      "[CV] END .............C=30, coef0=1, gamma=0.001, kernel=rbf; total time=   2.8s\n",
      "[CV] END ............C=30, coef0=1, gamma=0.001, kernel=poly; total time=   2.0s\n",
      "[CV] END ............C=30, coef0=1, gamma=0.001, kernel=poly; total time=   2.0s\n",
      "[CV] END ............C=30, coef0=1, gamma=0.001, kernel=poly; total time=   2.0s\n",
      "[CV] END ............C=30, coef0=1, gamma=0.001, kernel=poly; total time=   2.0s\n",
      "[CV] END ............C=30, coef0=1, gamma=0.001, kernel=poly; total time=   2.0s\n",
      "[CV] END .............C=30, coef0=1, gamma=0.002, kernel=rbf; total time=   3.1s\n",
      "[CV] END .............C=30, coef0=1, gamma=0.002, kernel=rbf; total time=   3.1s\n",
      "[CV] END .............C=30, coef0=1, gamma=0.002, kernel=rbf; total time=   3.1s\n",
      "[CV] END .............C=30, coef0=1, gamma=0.002, kernel=rbf; total time=   3.0s\n",
      "[CV] END .............C=30, coef0=1, gamma=0.002, kernel=rbf; total time=   2.9s\n",
      "[CV] END ............C=30, coef0=1, gamma=0.002, kernel=poly; total time=   2.8s\n",
      "[CV] END ............C=30, coef0=1, gamma=0.002, kernel=poly; total time=   2.8s\n",
      "[CV] END ............C=30, coef0=1, gamma=0.002, kernel=poly; total time=   2.6s\n",
      "[CV] END ............C=30, coef0=1, gamma=0.002, kernel=poly; total time=   2.4s\n",
      "[CV] END ............C=30, coef0=1, gamma=0.002, kernel=poly; total time=   2.4s\n",
      "[CV] END .............C=30, coef0=1, gamma=0.005, kernel=rbf; total time=   3.3s\n",
      "[CV] END .............C=30, coef0=1, gamma=0.005, kernel=rbf; total time=   3.3s\n",
      "[CV] END .............C=30, coef0=1, gamma=0.005, kernel=rbf; total time=   3.3s\n",
      "[CV] END .............C=30, coef0=1, gamma=0.005, kernel=rbf; total time=   3.2s\n",
      "[CV] END .............C=30, coef0=1, gamma=0.005, kernel=rbf; total time=   3.1s\n",
      "[CV] END ............C=30, coef0=1, gamma=0.005, kernel=poly; total time=   3.4s\n",
      "[CV] END ............C=30, coef0=1, gamma=0.005, kernel=poly; total time=   3.3s\n",
      "[CV] END ............C=30, coef0=1, gamma=0.005, kernel=poly; total time=   3.4s\n",
      "[CV] END ............C=30, coef0=1, gamma=0.005, kernel=poly; total time=   3.2s\n",
      "[CV] END ............C=30, coef0=1, gamma=0.005, kernel=poly; total time=   3.2s\n",
      "[CV] END ...............C=50, coef0=0, gamma=0.1, kernel=rbf; total time=   3.3s\n",
      "[CV] END ...............C=50, coef0=0, gamma=0.1, kernel=rbf; total time=   3.4s\n",
      "[CV] END ...............C=50, coef0=0, gamma=0.1, kernel=rbf; total time=   3.4s\n",
      "[CV] END ...............C=50, coef0=0, gamma=0.1, kernel=rbf; total time=   3.4s\n",
      "[CV] END ...............C=50, coef0=0, gamma=0.1, kernel=rbf; total time=   3.5s\n",
      "[CV] END ..............C=50, coef0=0, gamma=0.1, kernel=poly; total time=   2.8s\n",
      "[CV] END ..............C=50, coef0=0, gamma=0.1, kernel=poly; total time=   3.3s\n",
      "[CV] END ..............C=50, coef0=0, gamma=0.1, kernel=poly; total time=   3.0s\n",
      "[CV] END ..............C=50, coef0=0, gamma=0.1, kernel=poly; total time=   2.5s\n",
      "[CV] END ..............C=50, coef0=0, gamma=0.1, kernel=poly; total time=   2.5s\n",
      "[CV] END ..............C=50, coef0=0, gamma=0.05, kernel=rbf; total time=   3.4s\n",
      "[CV] END ..............C=50, coef0=0, gamma=0.05, kernel=rbf; total time=   3.4s\n",
      "[CV] END ..............C=50, coef0=0, gamma=0.05, kernel=rbf; total time=   3.4s\n",
      "[CV] END ..............C=50, coef0=0, gamma=0.05, kernel=rbf; total time=   3.3s\n",
      "[CV] END ..............C=50, coef0=0, gamma=0.05, kernel=rbf; total time=   3.4s\n",
      "[CV] END .............C=50, coef0=0, gamma=0.05, kernel=poly; total time=   2.7s\n",
      "[CV] END .............C=50, coef0=0, gamma=0.05, kernel=poly; total time=   2.6s\n",
      "[CV] END .............C=50, coef0=0, gamma=0.05, kernel=poly; total time=   2.7s\n",
      "[CV] END .............C=50, coef0=0, gamma=0.05, kernel=poly; total time=   2.5s\n",
      "[CV] END .............C=50, coef0=0, gamma=0.05, kernel=poly; total time=   2.5s\n",
      "[CV] END ..............C=50, coef0=0, gamma=0.01, kernel=rbf; total time=   3.7s\n",
      "[CV] END ..............C=50, coef0=0, gamma=0.01, kernel=rbf; total time=   3.4s\n",
      "[CV] END ..............C=50, coef0=0, gamma=0.01, kernel=rbf; total time=   3.5s\n",
      "[CV] END ..............C=50, coef0=0, gamma=0.01, kernel=rbf; total time=   3.3s\n",
      "[CV] END ..............C=50, coef0=0, gamma=0.01, kernel=rbf; total time=   3.5s\n",
      "[CV] END .............C=50, coef0=0, gamma=0.01, kernel=poly; total time=   2.1s\n",
      "[CV] END .............C=50, coef0=0, gamma=0.01, kernel=poly; total time=   2.3s\n",
      "[CV] END .............C=50, coef0=0, gamma=0.01, kernel=poly; total time=   3.0s\n",
      "[CV] END .............C=50, coef0=0, gamma=0.01, kernel=poly; total time=   2.7s\n"
     ]
    },
    {
     "name": "stdout",
     "output_type": "stream",
     "text": [
      "[CV] END .............C=50, coef0=0, gamma=0.01, kernel=poly; total time=   2.4s\n",
      "[CV] END .............C=50, coef0=0, gamma=0.001, kernel=rbf; total time=   3.1s\n",
      "[CV] END .............C=50, coef0=0, gamma=0.001, kernel=rbf; total time=   3.0s\n",
      "[CV] END .............C=50, coef0=0, gamma=0.001, kernel=rbf; total time=   3.0s\n",
      "[CV] END .............C=50, coef0=0, gamma=0.001, kernel=rbf; total time=   2.9s\n",
      "[CV] END .............C=50, coef0=0, gamma=0.001, kernel=rbf; total time=   3.0s\n",
      "[CV] END ............C=50, coef0=0, gamma=0.001, kernel=poly; total time=   2.1s\n",
      "[CV] END ............C=50, coef0=0, gamma=0.001, kernel=poly; total time=   2.1s\n",
      "[CV] END ............C=50, coef0=0, gamma=0.001, kernel=poly; total time=   2.1s\n",
      "[CV] END ............C=50, coef0=0, gamma=0.001, kernel=poly; total time=   2.1s\n",
      "[CV] END ............C=50, coef0=0, gamma=0.001, kernel=poly; total time=   2.1s\n",
      "[CV] END .............C=50, coef0=0, gamma=0.002, kernel=rbf; total time=   3.3s\n",
      "[CV] END .............C=50, coef0=0, gamma=0.002, kernel=rbf; total time=   3.4s\n",
      "[CV] END .............C=50, coef0=0, gamma=0.002, kernel=rbf; total time=   3.3s\n",
      "[CV] END .............C=50, coef0=0, gamma=0.002, kernel=rbf; total time=   3.2s\n",
      "[CV] END .............C=50, coef0=0, gamma=0.002, kernel=rbf; total time=   3.2s\n",
      "[CV] END ............C=50, coef0=0, gamma=0.002, kernel=poly; total time=   2.1s\n",
      "[CV] END ............C=50, coef0=0, gamma=0.002, kernel=poly; total time=   2.1s\n",
      "[CV] END ............C=50, coef0=0, gamma=0.002, kernel=poly; total time=   2.1s\n",
      "[CV] END ............C=50, coef0=0, gamma=0.002, kernel=poly; total time=   2.1s\n",
      "[CV] END ............C=50, coef0=0, gamma=0.002, kernel=poly; total time=   2.1s\n",
      "[CV] END .............C=50, coef0=0, gamma=0.005, kernel=rbf; total time=   3.8s\n",
      "[CV] END .............C=50, coef0=0, gamma=0.005, kernel=rbf; total time=   4.3s\n",
      "[CV] END .............C=50, coef0=0, gamma=0.005, kernel=rbf; total time=   3.9s\n",
      "[CV] END .............C=50, coef0=0, gamma=0.005, kernel=rbf; total time=   3.6s\n",
      "[CV] END .............C=50, coef0=0, gamma=0.005, kernel=rbf; total time=   3.7s\n",
      "[CV] END ............C=50, coef0=0, gamma=0.005, kernel=poly; total time=   2.0s\n",
      "[CV] END ............C=50, coef0=0, gamma=0.005, kernel=poly; total time=   2.0s\n",
      "[CV] END ............C=50, coef0=0, gamma=0.005, kernel=poly; total time=   2.0s\n",
      "[CV] END ............C=50, coef0=0, gamma=0.005, kernel=poly; total time=   2.0s\n",
      "[CV] END ............C=50, coef0=0, gamma=0.005, kernel=poly; total time=   2.0s\n",
      "[CV] END ...............C=50, coef0=1, gamma=0.1, kernel=rbf; total time=   3.3s\n",
      "[CV] END ...............C=50, coef0=1, gamma=0.1, kernel=rbf; total time=   3.5s\n",
      "[CV] END ...............C=50, coef0=1, gamma=0.1, kernel=rbf; total time=   3.5s\n",
      "[CV] END ...............C=50, coef0=1, gamma=0.1, kernel=rbf; total time=   3.6s\n",
      "[CV] END ...............C=50, coef0=1, gamma=0.1, kernel=rbf; total time=   3.7s\n",
      "[CV] END ..............C=50, coef0=1, gamma=0.1, kernel=poly; total time=   1.9s\n",
      "[CV] END ..............C=50, coef0=1, gamma=0.1, kernel=poly; total time=   2.0s\n",
      "[CV] END ..............C=50, coef0=1, gamma=0.1, kernel=poly; total time=   1.9s\n",
      "[CV] END ..............C=50, coef0=1, gamma=0.1, kernel=poly; total time=   2.0s\n",
      "[CV] END ..............C=50, coef0=1, gamma=0.1, kernel=poly; total time=   1.9s\n",
      "[CV] END ..............C=50, coef0=1, gamma=0.05, kernel=rbf; total time=   3.4s\n",
      "[CV] END ..............C=50, coef0=1, gamma=0.05, kernel=rbf; total time=   3.4s\n",
      "[CV] END ..............C=50, coef0=1, gamma=0.05, kernel=rbf; total time=   3.4s\n",
      "[CV] END ..............C=50, coef0=1, gamma=0.05, kernel=rbf; total time=   3.8s\n",
      "[CV] END ..............C=50, coef0=1, gamma=0.05, kernel=rbf; total time=   3.6s\n",
      "[CV] END .............C=50, coef0=1, gamma=0.05, kernel=poly; total time=   1.7s\n",
      "[CV] END .............C=50, coef0=1, gamma=0.05, kernel=poly; total time=   1.7s\n",
      "[CV] END .............C=50, coef0=1, gamma=0.05, kernel=poly; total time=   1.6s\n",
      "[CV] END .............C=50, coef0=1, gamma=0.05, kernel=poly; total time=   1.6s\n",
      "[CV] END .............C=50, coef0=1, gamma=0.05, kernel=poly; total time=   1.6s\n",
      "[CV] END ..............C=50, coef0=1, gamma=0.01, kernel=rbf; total time=   3.5s\n",
      "[CV] END ..............C=50, coef0=1, gamma=0.01, kernel=rbf; total time=   3.4s\n",
      "[CV] END ..............C=50, coef0=1, gamma=0.01, kernel=rbf; total time=   3.4s\n",
      "[CV] END ..............C=50, coef0=1, gamma=0.01, kernel=rbf; total time=   3.4s\n",
      "[CV] END ..............C=50, coef0=1, gamma=0.01, kernel=rbf; total time=   3.5s\n",
      "[CV] END .............C=50, coef0=1, gamma=0.01, kernel=poly; total time=   4.7s\n",
      "[CV] END .............C=50, coef0=1, gamma=0.01, kernel=poly; total time=   3.9s\n",
      "[CV] END .............C=50, coef0=1, gamma=0.01, kernel=poly; total time=   3.7s\n",
      "[CV] END .............C=50, coef0=1, gamma=0.01, kernel=poly; total time=   3.5s\n",
      "[CV] END .............C=50, coef0=1, gamma=0.01, kernel=poly; total time=   3.6s\n",
      "[CV] END .............C=50, coef0=1, gamma=0.001, kernel=rbf; total time=   2.7s\n",
      "[CV] END .............C=50, coef0=1, gamma=0.001, kernel=rbf; total time=   2.9s\n",
      "[CV] END .............C=50, coef0=1, gamma=0.001, kernel=rbf; total time=   3.0s\n",
      "[CV] END .............C=50, coef0=1, gamma=0.001, kernel=rbf; total time=   2.9s\n",
      "[CV] END .............C=50, coef0=1, gamma=0.001, kernel=rbf; total time=   3.5s\n",
      "[CV] END ............C=50, coef0=1, gamma=0.001, kernel=poly; total time=   2.5s\n",
      "[CV] END ............C=50, coef0=1, gamma=0.001, kernel=poly; total time=   2.3s\n",
      "[CV] END ............C=50, coef0=1, gamma=0.001, kernel=poly; total time=   2.3s\n",
      "[CV] END ............C=50, coef0=1, gamma=0.001, kernel=poly; total time=   2.4s\n",
      "[CV] END ............C=50, coef0=1, gamma=0.001, kernel=poly; total time=   2.3s\n",
      "[CV] END .............C=50, coef0=1, gamma=0.002, kernel=rbf; total time=   3.3s\n",
      "[CV] END .............C=50, coef0=1, gamma=0.002, kernel=rbf; total time=   3.5s\n",
      "[CV] END .............C=50, coef0=1, gamma=0.002, kernel=rbf; total time=   3.2s\n",
      "[CV] END .............C=50, coef0=1, gamma=0.002, kernel=rbf; total time=   3.2s\n",
      "[CV] END .............C=50, coef0=1, gamma=0.002, kernel=rbf; total time=   3.3s\n",
      "[CV] END ............C=50, coef0=1, gamma=0.002, kernel=poly; total time=   2.9s\n",
      "[CV] END ............C=50, coef0=1, gamma=0.002, kernel=poly; total time=   2.9s\n",
      "[CV] END ............C=50, coef0=1, gamma=0.002, kernel=poly; total time=   2.8s\n",
      "[CV] END ............C=50, coef0=1, gamma=0.002, kernel=poly; total time=   2.8s\n",
      "[CV] END ............C=50, coef0=1, gamma=0.002, kernel=poly; total time=   2.9s\n",
      "[CV] END .............C=50, coef0=1, gamma=0.005, kernel=rbf; total time=   3.8s\n",
      "[CV] END .............C=50, coef0=1, gamma=0.005, kernel=rbf; total time=   3.7s\n",
      "[CV] END .............C=50, coef0=1, gamma=0.005, kernel=rbf; total time=   3.8s\n",
      "[CV] END .............C=50, coef0=1, gamma=0.005, kernel=rbf; total time=   3.6s\n",
      "[CV] END .............C=50, coef0=1, gamma=0.005, kernel=rbf; total time=   3.9s\n",
      "[CV] END ............C=50, coef0=1, gamma=0.005, kernel=poly; total time=   4.7s\n",
      "[CV] END ............C=50, coef0=1, gamma=0.005, kernel=poly; total time=   4.2s\n",
      "[CV] END ............C=50, coef0=1, gamma=0.005, kernel=poly; total time=   4.2s\n",
      "[CV] END ............C=50, coef0=1, gamma=0.005, kernel=poly; total time=   4.1s\n",
      "[CV] END ............C=50, coef0=1, gamma=0.005, kernel=poly; total time=   4.0s\n",
      "[CV] END ..............C=100, coef0=0, gamma=0.1, kernel=rbf; total time=   3.4s\n",
      "[CV] END ..............C=100, coef0=0, gamma=0.1, kernel=rbf; total time=   3.4s\n",
      "[CV] END ..............C=100, coef0=0, gamma=0.1, kernel=rbf; total time=   3.4s\n",
      "[CV] END ..............C=100, coef0=0, gamma=0.1, kernel=rbf; total time=   3.3s\n",
      "[CV] END ..............C=100, coef0=0, gamma=0.1, kernel=rbf; total time=   3.5s\n",
      "[CV] END .............C=100, coef0=0, gamma=0.1, kernel=poly; total time=   2.7s\n",
      "[CV] END .............C=100, coef0=0, gamma=0.1, kernel=poly; total time=   2.7s\n",
      "[CV] END .............C=100, coef0=0, gamma=0.1, kernel=poly; total time=   2.7s\n",
      "[CV] END .............C=100, coef0=0, gamma=0.1, kernel=poly; total time=   2.5s\n",
      "[CV] END .............C=100, coef0=0, gamma=0.1, kernel=poly; total time=   2.5s\n",
      "[CV] END .............C=100, coef0=0, gamma=0.05, kernel=rbf; total time=   3.3s\n"
     ]
    },
    {
     "name": "stdout",
     "output_type": "stream",
     "text": [
      "[CV] END .............C=100, coef0=0, gamma=0.05, kernel=rbf; total time=   3.3s\n",
      "[CV] END .............C=100, coef0=0, gamma=0.05, kernel=rbf; total time=   3.4s\n",
      "[CV] END .............C=100, coef0=0, gamma=0.05, kernel=rbf; total time=   3.8s\n",
      "[CV] END .............C=100, coef0=0, gamma=0.05, kernel=rbf; total time=   3.7s\n",
      "[CV] END ............C=100, coef0=0, gamma=0.05, kernel=poly; total time=   2.7s\n",
      "[CV] END ............C=100, coef0=0, gamma=0.05, kernel=poly; total time=   2.8s\n",
      "[CV] END ............C=100, coef0=0, gamma=0.05, kernel=poly; total time=   2.7s\n",
      "[CV] END ............C=100, coef0=0, gamma=0.05, kernel=poly; total time=   2.5s\n",
      "[CV] END ............C=100, coef0=0, gamma=0.05, kernel=poly; total time=   2.7s\n",
      "[CV] END .............C=100, coef0=0, gamma=0.01, kernel=rbf; total time=   4.0s\n",
      "[CV] END .............C=100, coef0=0, gamma=0.01, kernel=rbf; total time=   4.0s\n",
      "[CV] END .............C=100, coef0=0, gamma=0.01, kernel=rbf; total time=   4.2s\n",
      "[CV] END .............C=100, coef0=0, gamma=0.01, kernel=rbf; total time=   3.9s\n",
      "[CV] END .............C=100, coef0=0, gamma=0.01, kernel=rbf; total time=   3.6s\n",
      "[CV] END ............C=100, coef0=0, gamma=0.01, kernel=poly; total time=   2.4s\n",
      "[CV] END ............C=100, coef0=0, gamma=0.01, kernel=poly; total time=   3.0s\n",
      "[CV] END ............C=100, coef0=0, gamma=0.01, kernel=poly; total time=   2.7s\n",
      "[CV] END ............C=100, coef0=0, gamma=0.01, kernel=poly; total time=   2.6s\n",
      "[CV] END ............C=100, coef0=0, gamma=0.01, kernel=poly; total time=   2.1s\n",
      "[CV] END ............C=100, coef0=0, gamma=0.001, kernel=rbf; total time=   3.4s\n",
      "[CV] END ............C=100, coef0=0, gamma=0.001, kernel=rbf; total time=   3.4s\n",
      "[CV] END ............C=100, coef0=0, gamma=0.001, kernel=rbf; total time=   3.7s\n",
      "[CV] END ............C=100, coef0=0, gamma=0.001, kernel=rbf; total time=   3.7s\n",
      "[CV] END ............C=100, coef0=0, gamma=0.001, kernel=rbf; total time=   3.8s\n",
      "[CV] END ...........C=100, coef0=0, gamma=0.001, kernel=poly; total time=   2.3s\n",
      "[CV] END ...........C=100, coef0=0, gamma=0.001, kernel=poly; total time=   2.2s\n",
      "[CV] END ...........C=100, coef0=0, gamma=0.001, kernel=poly; total time=   2.3s\n",
      "[CV] END ...........C=100, coef0=0, gamma=0.001, kernel=poly; total time=   2.1s\n",
      "[CV] END ...........C=100, coef0=0, gamma=0.001, kernel=poly; total time=   2.2s\n",
      "[CV] END ............C=100, coef0=0, gamma=0.002, kernel=rbf; total time=   4.0s\n",
      "[CV] END ............C=100, coef0=0, gamma=0.002, kernel=rbf; total time=   4.4s\n",
      "[CV] END ............C=100, coef0=0, gamma=0.002, kernel=rbf; total time=   4.0s\n",
      "[CV] END ............C=100, coef0=0, gamma=0.002, kernel=rbf; total time=   4.3s\n",
      "[CV] END ............C=100, coef0=0, gamma=0.002, kernel=rbf; total time=   4.1s\n",
      "[CV] END ...........C=100, coef0=0, gamma=0.002, kernel=poly; total time=   2.1s\n",
      "[CV] END ...........C=100, coef0=0, gamma=0.002, kernel=poly; total time=   2.0s\n",
      "[CV] END ...........C=100, coef0=0, gamma=0.002, kernel=poly; total time=   2.2s\n",
      "[CV] END ...........C=100, coef0=0, gamma=0.002, kernel=poly; total time=   2.3s\n",
      "[CV] END ...........C=100, coef0=0, gamma=0.002, kernel=poly; total time=   2.3s\n",
      "[CV] END ............C=100, coef0=0, gamma=0.005, kernel=rbf; total time=   4.9s\n",
      "[CV] END ............C=100, coef0=0, gamma=0.005, kernel=rbf; total time=   4.9s\n",
      "[CV] END ............C=100, coef0=0, gamma=0.005, kernel=rbf; total time=   5.0s\n",
      "[CV] END ............C=100, coef0=0, gamma=0.005, kernel=rbf; total time=   5.1s\n",
      "[CV] END ............C=100, coef0=0, gamma=0.005, kernel=rbf; total time=   4.6s\n",
      "[CV] END ...........C=100, coef0=0, gamma=0.005, kernel=poly; total time=   2.1s\n",
      "[CV] END ...........C=100, coef0=0, gamma=0.005, kernel=poly; total time=   2.1s\n",
      "[CV] END ...........C=100, coef0=0, gamma=0.005, kernel=poly; total time=   2.1s\n",
      "[CV] END ...........C=100, coef0=0, gamma=0.005, kernel=poly; total time=   2.2s\n",
      "[CV] END ...........C=100, coef0=0, gamma=0.005, kernel=poly; total time=   2.2s\n",
      "[CV] END ..............C=100, coef0=1, gamma=0.1, kernel=rbf; total time=   3.1s\n",
      "[CV] END ..............C=100, coef0=1, gamma=0.1, kernel=rbf; total time=   3.4s\n",
      "[CV] END ..............C=100, coef0=1, gamma=0.1, kernel=rbf; total time=   3.4s\n",
      "[CV] END ..............C=100, coef0=1, gamma=0.1, kernel=rbf; total time=   3.5s\n",
      "[CV] END ..............C=100, coef0=1, gamma=0.1, kernel=rbf; total time=   3.4s\n",
      "[CV] END .............C=100, coef0=1, gamma=0.1, kernel=poly; total time=   1.9s\n",
      "[CV] END .............C=100, coef0=1, gamma=0.1, kernel=poly; total time=   1.9s\n",
      "[CV] END .............C=100, coef0=1, gamma=0.1, kernel=poly; total time=   1.9s\n",
      "[CV] END .............C=100, coef0=1, gamma=0.1, kernel=poly; total time=   1.9s\n",
      "[CV] END .............C=100, coef0=1, gamma=0.1, kernel=poly; total time=   2.1s\n",
      "[CV] END .............C=100, coef0=1, gamma=0.05, kernel=rbf; total time=   3.5s\n",
      "[CV] END .............C=100, coef0=1, gamma=0.05, kernel=rbf; total time=   4.0s\n",
      "[CV] END .............C=100, coef0=1, gamma=0.05, kernel=rbf; total time=   3.4s\n",
      "[CV] END .............C=100, coef0=1, gamma=0.05, kernel=rbf; total time=   3.6s\n",
      "[CV] END .............C=100, coef0=1, gamma=0.05, kernel=rbf; total time=   3.9s\n",
      "[CV] END ............C=100, coef0=1, gamma=0.05, kernel=poly; total time=   2.0s\n",
      "[CV] END ............C=100, coef0=1, gamma=0.05, kernel=poly; total time=   1.9s\n",
      "[CV] END ............C=100, coef0=1, gamma=0.05, kernel=poly; total time=   1.7s\n",
      "[CV] END ............C=100, coef0=1, gamma=0.05, kernel=poly; total time=   1.6s\n",
      "[CV] END ............C=100, coef0=1, gamma=0.05, kernel=poly; total time=   1.7s\n",
      "[CV] END .............C=100, coef0=1, gamma=0.01, kernel=rbf; total time=   3.9s\n",
      "[CV] END .............C=100, coef0=1, gamma=0.01, kernel=rbf; total time=   4.0s\n",
      "[CV] END .............C=100, coef0=1, gamma=0.01, kernel=rbf; total time=   3.9s\n",
      "[CV] END .............C=100, coef0=1, gamma=0.01, kernel=rbf; total time=   3.6s\n",
      "[CV] END .............C=100, coef0=1, gamma=0.01, kernel=rbf; total time=   3.6s\n",
      "[CV] END ............C=100, coef0=1, gamma=0.01, kernel=poly; total time=   4.1s\n",
      "[CV] END ............C=100, coef0=1, gamma=0.01, kernel=poly; total time=   3.9s\n",
      "[CV] END ............C=100, coef0=1, gamma=0.01, kernel=poly; total time=   3.9s\n",
      "[CV] END ............C=100, coef0=1, gamma=0.01, kernel=poly; total time=   3.8s\n",
      "[CV] END ............C=100, coef0=1, gamma=0.01, kernel=poly; total time=   4.4s\n",
      "[CV] END ............C=100, coef0=1, gamma=0.001, kernel=rbf; total time=   3.8s\n",
      "[CV] END ............C=100, coef0=1, gamma=0.001, kernel=rbf; total time=   3.6s\n",
      "[CV] END ............C=100, coef0=1, gamma=0.001, kernel=rbf; total time=   3.6s\n",
      "[CV] END ............C=100, coef0=1, gamma=0.001, kernel=rbf; total time=   3.8s\n",
      "[CV] END ............C=100, coef0=1, gamma=0.001, kernel=rbf; total time=   4.2s\n",
      "[CV] END ...........C=100, coef0=1, gamma=0.001, kernel=poly; total time=   3.3s\n",
      "[CV] END ...........C=100, coef0=1, gamma=0.001, kernel=poly; total time=   3.4s\n",
      "[CV] END ...........C=100, coef0=1, gamma=0.001, kernel=poly; total time=   3.3s\n",
      "[CV] END ...........C=100, coef0=1, gamma=0.001, kernel=poly; total time=   3.0s\n",
      "[CV] END ...........C=100, coef0=1, gamma=0.001, kernel=poly; total time=   3.0s\n",
      "[CV] END ............C=100, coef0=1, gamma=0.002, kernel=rbf; total time=   3.9s\n",
      "[CV] END ............C=100, coef0=1, gamma=0.002, kernel=rbf; total time=   4.0s\n",
      "[CV] END ............C=100, coef0=1, gamma=0.002, kernel=rbf; total time=   3.9s\n",
      "[CV] END ............C=100, coef0=1, gamma=0.002, kernel=rbf; total time=   3.8s\n",
      "[CV] END ............C=100, coef0=1, gamma=0.002, kernel=rbf; total time=   3.9s\n",
      "[CV] END ...........C=100, coef0=1, gamma=0.002, kernel=poly; total time=   4.1s\n",
      "[CV] END ...........C=100, coef0=1, gamma=0.002, kernel=poly; total time=   4.5s\n",
      "[CV] END ...........C=100, coef0=1, gamma=0.002, kernel=poly; total time=   4.0s\n",
      "[CV] END ...........C=100, coef0=1, gamma=0.002, kernel=poly; total time=   4.0s\n",
      "[CV] END ...........C=100, coef0=1, gamma=0.002, kernel=poly; total time=   5.7s\n",
      "[CV] END ............C=100, coef0=1, gamma=0.005, kernel=rbf; total time=   5.4s\n",
      "[CV] END ............C=100, coef0=1, gamma=0.005, kernel=rbf; total time=   4.6s\n",
      "[CV] END ............C=100, coef0=1, gamma=0.005, kernel=rbf; total time=   4.7s\n"
     ]
    },
    {
     "name": "stdout",
     "output_type": "stream",
     "text": [
      "[CV] END ............C=100, coef0=1, gamma=0.005, kernel=rbf; total time=   4.4s\n",
      "[CV] END ............C=100, coef0=1, gamma=0.005, kernel=rbf; total time=   4.5s\n",
      "[CV] END ...........C=100, coef0=1, gamma=0.005, kernel=poly; total time=   5.7s\n",
      "[CV] END ...........C=100, coef0=1, gamma=0.005, kernel=poly; total time=   5.7s\n",
      "[CV] END ...........C=100, coef0=1, gamma=0.005, kernel=poly; total time=   5.5s\n",
      "[CV] END ...........C=100, coef0=1, gamma=0.005, kernel=poly; total time=   5.5s\n",
      "[CV] END ...........C=100, coef0=1, gamma=0.005, kernel=poly; total time=   6.5s\n"
     ]
    },
    {
     "data": {
      "text/plain": [
       "GridSearchCV(cv=5, estimator=SVC(),\n",
       "             param_grid={'C': [1, 10, 20, 30, 50, 100], 'coef0': [0, 1],\n",
       "                         'gamma': [0.1, 0.05, 0.01, 0.001, 0.002, 0.005],\n",
       "                         'kernel': ['rbf', 'poly']},\n",
       "             scoring='accuracy', verbose=2)"
      ]
     },
     "execution_count": 20,
     "metadata": {},
     "output_type": "execute_result"
    }
   ],
   "source": [
    "model_grid.fit(X,y)"
   ]
  },
  {
   "cell_type": "code",
   "execution_count": 21,
   "metadata": {},
   "outputs": [
    {
     "data": {
      "text/plain": [
       "{'C': 1, 'coef0': 0, 'gamma': 0.05, 'kernel': 'rbf'}"
      ]
     },
     "execution_count": 21,
     "metadata": {},
     "output_type": "execute_result"
    }
   ],
   "source": [
    "model_grid.best_params_"
   ]
  },
  {
   "cell_type": "code",
   "execution_count": 22,
   "metadata": {},
   "outputs": [
    {
     "data": {
      "text/plain": [
       "0.7795263900478904"
      ]
     },
     "execution_count": 22,
     "metadata": {},
     "output_type": "execute_result"
    }
   ],
   "source": [
    "model_grid.best_score_"
   ]
  },
  {
   "cell_type": "code",
   "execution_count": 35,
   "metadata": {},
   "outputs": [],
   "source": [
    "# WIth best parameter buil ML Model\n",
    "model_best = SVC(C=1,kernel='rbf',gamma=0.05,probability=True)"
   ]
  },
  {
   "cell_type": "code",
   "execution_count": 36,
   "metadata": {},
   "outputs": [
    {
     "data": {
      "text/plain": [
       "0.8206770356816102"
      ]
     },
     "execution_count": 36,
     "metadata": {},
     "output_type": "execute_result"
    }
   ],
   "source": [
    "model_best.fit(x_train,y_train)\n",
    "model_best.score(x_test,y_test)"
   ]
  },
  {
   "cell_type": "code",
   "execution_count": 37,
   "metadata": {},
   "outputs": [],
   "source": [
    "y_pred = model_best.predict(x_test)\n",
    "y_prob = model_best.predict_proba(x_test) # proability"
   ]
  },
  {
   "cell_type": "code",
   "execution_count": 38,
   "metadata": {},
   "outputs": [
    {
     "data": {
      "image/png": "[encoded data removed]",
      "text/plain": [
       "<Figure size 432x288 with 1 Axes>"
      ]
     },
     "metadata": {
      "needs_background": "light"
     },
     "output_type": "display_data"
    }
   ],
   "source": [
    "cm = metrics.confusion_matrix(y_test,y_pred)\n",
    "cm = np.concatenate((cm,cm.sum(axis=0).reshape(1,-1)),axis=0)\n",
    "cm = np.concatenate((cm,cm.sum(axis=1).reshape(-1,1)),axis=1)\n",
    "plt.imshow(cm)\n",
    "for i in range(3):\n",
    "    for j in range(3):\n",
    "        plt.text(j,i,'%d'%cm[i,j])\n",
    "        \n",
    "plt.xticks([0,1])\n",
    "plt.yticks([0,1])\n",
    "plt.xlabel('Predicted Values')\n",
    "plt.ylabel('True Values')\n",
    "plt.show()"
   ]
  },
  {
   "cell_type": "code",
   "execution_count": 39,
   "metadata": {},
   "outputs": [
    {
     "data": {
      "text/html": [
       "<div>\n",
       "<style scoped>\n",
       "    .dataframe tbody tr th:only-of-type {\n",
       "        vertical-align: middle;\n",
       "    }\n",
       "\n",
       "    .dataframe tbody tr th {\n",
       "        vertical-align: top;\n",
       "    }\n",
       "\n",
       "    .dataframe thead th {\n",
       "        text-align: right;\n",
       "    }\n",
       "</style>\n",
       "<table border=\"1\" class=\"dataframe\">\n",
       "  <thead>\n",
       "    <tr style=\"text-align: right;\">\n",
       "      <th></th>\n",
       "      <th>precision</th>\n",
       "      <th>recall</th>\n",
       "      <th>f1-score</th>\n",
       "      <th>support</th>\n",
       "    </tr>\n",
       "  </thead>\n",
       "  <tbody>\n",
       "    <tr>\n",
       "      <th>male</th>\n",
       "      <td>0.824934</td>\n",
       "      <td>0.705215</td>\n",
       "      <td>0.760391</td>\n",
       "      <td>441.000000</td>\n",
       "    </tr>\n",
       "    <tr>\n",
       "      <th>female</th>\n",
       "      <td>0.818436</td>\n",
       "      <td>0.898773</td>\n",
       "      <td>0.856725</td>\n",
       "      <td>652.000000</td>\n",
       "    </tr>\n",
       "    <tr>\n",
       "      <th>accuracy</th>\n",
       "      <td>0.820677</td>\n",
       "      <td>0.820677</td>\n",
       "      <td>0.820677</td>\n",
       "      <td>0.820677</td>\n",
       "    </tr>\n",
       "    <tr>\n",
       "      <th>macro avg</th>\n",
       "      <td>0.821685</td>\n",
       "      <td>0.801994</td>\n",
       "      <td>0.808558</td>\n",
       "      <td>1093.000000</td>\n",
       "    </tr>\n",
       "    <tr>\n",
       "      <th>weighted avg</th>\n",
       "      <td>0.821058</td>\n",
       "      <td>0.820677</td>\n",
       "      <td>0.817857</td>\n",
       "      <td>1093.000000</td>\n",
       "    </tr>\n",
       "  </tbody>\n",
       "</table>\n",
       "</div>"
      ],
      "text/plain": [
       "              precision    recall  f1-score      support\n",
       "male           0.824934  0.705215  0.760391   441.000000\n",
       "female         0.818436  0.898773  0.856725   652.000000\n",
       "accuracy       0.820677  0.820677  0.820677     0.820677\n",
       "macro avg      0.821685  0.801994  0.808558  1093.000000\n",
       "weighted avg   0.821058  0.820677  0.817857  1093.000000"
      ]
     },
     "execution_count": 39,
     "metadata": {},
     "output_type": "execute_result"
    }
   ],
   "source": [
    "# classification report\n",
    "cr = metrics.classification_report(y_test,y_pred,target_names=['male','female'],output_dict=True)\n",
    "pd.DataFrame(cr).T"
   ]
  },
  {
   "cell_type": "code",
   "execution_count": 40,
   "metadata": {},
   "outputs": [
    {
     "data": {
      "text/plain": [
       "0.6185127145808106"
      ]
     },
     "execution_count": 40,
     "metadata": {},
     "output_type": "execute_result"
    }
   ],
   "source": [
    "# kappa\n",
    "metrics.cohen_kappa_score(y_test,y_pred)"
   ]
  },
  {
   "cell_type": "markdown",
   "metadata": {},
   "source": [
    "# ROC and AUC"
   ]
  },
  {
   "cell_type": "code",
   "execution_count": 41,
   "metadata": {},
   "outputs": [
    {
     "data": {
      "image/png": "[encoded data removed]",
      "text/plain": [
       "<Figure size 720x432 with 1 Axes>"
      ]
     },
     "metadata": {
      "needs_background": "light"
     },
     "output_type": "display_data"
    }
   ],
   "source": [
    "# roc for female\n",
    "fpr,tpr,thresh = metrics.roc_curve(y_test,y_prob[:,1])\n",
    "auc_s = metrics.auc(fpr,tpr)\n",
    "plt.figure(figsize=(10,6))\n",
    "plt.plot(fpr,tpr,'-.')\n",
    "plt.plot([0,1],[0,1],'b--')\n",
    "for i in range(0,len(thresh),20):\n",
    "    plt.plot(fpr[i],tpr[i],'^')\n",
    "    plt.text(fpr[i],tpr[i],\"%0.2f\"%thresh[i])\n",
    "    \n",
    "plt.legend(['AUC Score = %0.2f'%auc_s])\n",
    "\n",
    "plt.xlabel('False Positve Rate')\n",
    "plt.ylabel('True Positive Rate')\n",
    "plt.title('Receiver Operating Characterstics')\n",
    "plt.show()"
   ]
  },
  {
   "cell_type": "code",
   "execution_count": 42,
   "metadata": {},
   "outputs": [],
   "source": [
    "# save our machine learning model\n",
    "import pickle"
   ]
  },
  {
   "cell_type": "code",
   "execution_count": 43,
   "metadata": {},
   "outputs": [],
   "source": [
    "pickle.dump(model_best,open('./model/model_svm.pickle','wb'))"
   ]
  },
  {
   "cell_type": "code",
   "execution_count": 44,
   "metadata": {},
   "outputs": [],
   "source": [
    "pickle.dump(mean,open('./model/mean_preprocess.pickle','wb'))"
   ]
  },
  {
   "cell_type": "code",
   "execution_count": null,
   "metadata": {},
   "outputs": [],
   "source": []
  }
 ],
 "metadata": {
  "kernelspec": {
   "display_name": "Python 3 (ipykernel)",
   "language": "python",
   "name": "python3"
  },
  "language_info": {
   "codemirror_mode": {
    "name": "ipython",
    "version": 3
   },
   "file_extension": ".py",
   "mimetype": "text/x-python",
   "name": "python",
   "nbconvert_exporter": "python",
   "pygments_lexer": "ipython3",
   "version": "3.9.7"
  }
 },
 "nbformat": 4,
 "nbformat_minor": 2
}
